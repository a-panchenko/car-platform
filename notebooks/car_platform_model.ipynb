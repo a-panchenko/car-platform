{
 "cells": [
  {
   "cell_type": "code",
   "execution_count": 1,
   "metadata": {},
   "outputs": [],
   "source": [
    "import pandas as pd\n",
    "import numpy as np\n",
    "import pandas_gbq\n",
    "from sklearn.model_selection import train_test_split\n",
    "from sklearn.model_selection import cross_val_score, StratifiedKFold, GridSearchCV, KFold\n",
    "from google.cloud import storage\n",
    "import os"
   ]
  },
  {
   "cell_type": "code",
   "execution_count": 68,
   "metadata": {},
   "outputs": [
    {
     "data": {
      "text/plain": [
       "'<webapp_platform.models.CarAttributes object at 0x7fd625809c50>'"
      ]
     },
     "execution_count": 68,
     "metadata": {},
     "output_type": "execute_result"
    }
   ],
   "source": [
    "d.pop('car_attributes', None)"
   ]
  },
  {
   "cell_type": "code",
   "execution_count": 8,
   "metadata": {},
   "outputs": [],
   "source": [
    "query = \"\"\"\n",
    "SELECT\n",
    "  *\n",
    "FROM\n",
    "  car-platform-273211.car_listings.car_listings\n",
    "\"\"\"\n",
    "df_raw = pd.read_gbq(query,\n",
    "                     project_id = os.environ['GCP_PROJECT_ID'],\n",
    "                     dialect = 'standard')"
   ]
  },
  {
   "cell_type": "code",
   "execution_count": 151,
   "metadata": {},
   "outputs": [],
   "source": [
    "df = df_raw.copy()"
   ]
  },
  {
   "cell_type": "code",
   "execution_count": 154,
   "metadata": {},
   "outputs": [
    {
     "data": {
      "text/plain": [
       "Index(['id', 'url', 'region', 'region_url', 'price', 'year', 'manufacturer',\n",
       "       'model', 'condition', 'cylinders', 'fuel', 'odometer', 'title_status',\n",
       "       'transmission', 'vin', 'drive', 'size', 'type', 'paint_color',\n",
       "       'image_url', 'description', 'county', 'state', 'lat', 'long'],\n",
       "      dtype='object')"
      ]
     },
     "execution_count": 154,
     "metadata": {},
     "output_type": "execute_result"
    }
   ],
   "source": [
    "df.columns"
   ]
  },
  {
   "cell_type": "code",
   "execution_count": null,
   "metadata": {},
   "outputs": [],
   "source": [
    "### cheat"
   ]
  },
  {
   "cell_type": "code",
   "execution_count": 156,
   "metadata": {},
   "outputs": [],
   "source": [
    "df = df[['year', 'odometer', 'price']]"
   ]
  },
  {
   "cell_type": "code",
   "execution_count": 157,
   "metadata": {},
   "outputs": [
    {
     "data": {
      "text/plain": [
       "(539759, 3)"
      ]
     },
     "execution_count": 157,
     "metadata": {},
     "output_type": "execute_result"
    }
   ],
   "source": [
    "df.shape"
   ]
  },
  {
   "cell_type": "code",
   "execution_count": 158,
   "metadata": {},
   "outputs": [
    {
     "data": {
      "text/plain": [
       "year          987\n",
       "odometer    98976\n",
       "price           0\n",
       "dtype: int64"
      ]
     },
     "execution_count": 158,
     "metadata": {},
     "output_type": "execute_result"
    }
   ],
   "source": [
    "df.isnull().sum()"
   ]
  },
  {
   "cell_type": "code",
   "execution_count": 159,
   "metadata": {},
   "outputs": [
    {
     "data": {
      "text/plain": [
       "(439815, 3)"
      ]
     },
     "execution_count": 159,
     "metadata": {},
     "output_type": "execute_result"
    }
   ],
   "source": [
    "df = df.dropna()\n",
    "df.shape"
   ]
  },
  {
   "cell_type": "code",
   "execution_count": 160,
   "metadata": {},
   "outputs": [
    {
     "name": "stderr",
     "output_type": "stream",
     "text": [
      "/Users/marichka/anaconda3/lib/python3.7/site-packages/pandas/core/frame.py:4304: SettingWithCopyWarning: \n",
      "A value is trying to be set on a copy of a slice from a DataFrame\n",
      "\n",
      "See the caveats in the documentation: https://pandas.pydata.org/pandas-docs/stable/user_guide/indexing.html#returning-a-view-versus-a-copy\n",
      "  errors=errors,\n"
     ]
    }
   ],
   "source": [
    "df.rename(columns = {\"price\": \"customer_price\", \"odometer\": \"mileage\"}, inplace = True)"
   ]
  },
  {
   "cell_type": "code",
   "execution_count": 161,
   "metadata": {},
   "outputs": [
    {
     "data": {
      "text/html": [
       "<div>\n",
       "<style scoped>\n",
       "    .dataframe tbody tr th:only-of-type {\n",
       "        vertical-align: middle;\n",
       "    }\n",
       "\n",
       "    .dataframe tbody tr th {\n",
       "        vertical-align: top;\n",
       "    }\n",
       "\n",
       "    .dataframe thead th {\n",
       "        text-align: right;\n",
       "    }\n",
       "</style>\n",
       "<table border=\"1\" class=\"dataframe\">\n",
       "  <thead>\n",
       "    <tr style=\"text-align: right;\">\n",
       "      <th></th>\n",
       "      <th>year</th>\n",
       "      <th>mileage</th>\n",
       "      <th>customer_price</th>\n",
       "    </tr>\n",
       "  </thead>\n",
       "  <tbody>\n",
       "    <tr>\n",
       "      <th>2</th>\n",
       "      <td>2011.0</td>\n",
       "      <td>192904.0</td>\n",
       "      <td>5780</td>\n",
       "    </tr>\n",
       "    <tr>\n",
       "      <th>3</th>\n",
       "      <td>2001.0</td>\n",
       "      <td>71000.0</td>\n",
       "      <td>7900</td>\n",
       "    </tr>\n",
       "    <tr>\n",
       "      <th>4</th>\n",
       "      <td>2017.0</td>\n",
       "      <td>46543.0</td>\n",
       "      <td>16600</td>\n",
       "    </tr>\n",
       "    <tr>\n",
       "      <th>6</th>\n",
       "      <td>2003.0</td>\n",
       "      <td>161000.0</td>\n",
       "      <td>3495</td>\n",
       "    </tr>\n",
       "    <tr>\n",
       "      <th>7</th>\n",
       "      <td>2010.0</td>\n",
       "      <td>43658.0</td>\n",
       "      <td>17900</td>\n",
       "    </tr>\n",
       "  </tbody>\n",
       "</table>\n",
       "</div>"
      ],
      "text/plain": [
       "     year   mileage  customer_price\n",
       "2  2011.0  192904.0            5780\n",
       "3  2001.0   71000.0            7900\n",
       "4  2017.0   46543.0           16600\n",
       "6  2003.0  161000.0            3495\n",
       "7  2010.0   43658.0           17900"
      ]
     },
     "execution_count": 161,
     "metadata": {},
     "output_type": "execute_result"
    }
   ],
   "source": [
    "df.head()"
   ]
  },
  {
   "cell_type": "code",
   "execution_count": null,
   "metadata": {},
   "outputs": [],
   "source": [
    "### not cheat"
   ]
  },
  {
   "cell_type": "code",
   "execution_count": 96,
   "metadata": {},
   "outputs": [
    {
     "data": {
      "text/plain": [
       "(539759, 25)"
      ]
     },
     "execution_count": 96,
     "metadata": {},
     "output_type": "execute_result"
    }
   ],
   "source": [
    "df.shape"
   ]
  },
  {
   "cell_type": "code",
   "execution_count": 97,
   "metadata": {},
   "outputs": [
    {
     "data": {
      "text/plain": [
       "sedan          96119\n",
       "SUV            94626\n",
       "pickup         55934\n",
       "truck          50419\n",
       "coupe          21664\n",
       "other          18351\n",
       "hatchback      14791\n",
       "wagon          12194\n",
       "van            11006\n",
       "convertible     9089\n",
       "mini-van        6685\n",
       "offroad          835\n",
       "bus              577\n",
       "Name: type, dtype: int64"
      ]
     },
     "execution_count": 97,
     "metadata": {},
     "output_type": "execute_result"
    }
   ],
   "source": [
    "df.type.value_counts()"
   ]
  },
  {
   "cell_type": "code",
   "execution_count": 102,
   "metadata": {},
   "outputs": [
    {
     "data": {
      "text/plain": [
       "f-150             11630\n",
       "                   7978\n",
       "silverado 1500     7302\n",
       "1500               6623\n",
       "silverado          5679\n",
       "wrangler           4270\n",
       "accord             3933\n",
       "altima             3920\n",
       "2500               3865\n",
       "camry              3746\n",
       "grand cherokee     3637\n",
       "escape             3590\n",
       "civic              3398\n",
       "explorer           3368\n",
       "tacoma             3203\n",
       "Name: model, dtype: int64"
      ]
     },
     "execution_count": 102,
     "metadata": {},
     "output_type": "execute_result"
    }
   ],
   "source": [
    "df.model.value_counts()[:15]"
   ]
  },
  {
   "cell_type": "code",
   "execution_count": 103,
   "metadata": {},
   "outputs": [],
   "source": [
    "df = df[(df.type == 'hatchback') | (df.type == 'pickup') | (df.type == 'sedan') | (df.type == 'wagon') | \n",
    "  (df.type == 'van') | (df.type == 'truck')]"
   ]
  },
  {
   "cell_type": "code",
   "execution_count": 104,
   "metadata": {},
   "outputs": [],
   "source": [
    "df = df[(df.state == 'mn') | (df.state == 'va') | (df.state == 'wi') | (df.state == 'ca') | (df.state == 'fl') | \n",
    "       (df.state == 'wa') | (df.state == 'tx') | (df.state == 'ny')]"
   ]
  },
  {
   "cell_type": "code",
   "execution_count": 105,
   "metadata": {},
   "outputs": [],
   "source": [
    "df = df[(df.fuel == 'gas') | (df.fuel == 'diesel')]"
   ]
  },
  {
   "cell_type": "code",
   "execution_count": 106,
   "metadata": {},
   "outputs": [],
   "source": [
    "df = df[(df.transmission == 'automatic') | (df.transmission == 'manual') | (df.transmission == 'other')]"
   ]
  },
  {
   "cell_type": "code",
   "execution_count": 107,
   "metadata": {},
   "outputs": [],
   "source": [
    "df = df[(df.model == 'f-150') | (df.model == 'camry') | (df.model == 'civic') | (df.model == 'tacoma') | \n",
    "       (df.model == 'silverado')]"
   ]
  },
  {
   "cell_type": "code",
   "execution_count": 132,
   "metadata": {},
   "outputs": [],
   "source": [
    "df = df[df.color != 'custom']"
   ]
  },
  {
   "cell_type": "code",
   "execution_count": 109,
   "metadata": {},
   "outputs": [
    {
     "name": "stdout",
     "output_type": "stream",
     "text": [
      "<class 'pandas.core.frame.DataFrame'>\n",
      "Int64Index: 6853 entries, 18 to 539741\n",
      "Data columns (total 25 columns):\n",
      " #   Column        Non-Null Count  Dtype  \n",
      "---  ------        --------------  -----  \n",
      " 0   id            6853 non-null   int64  \n",
      " 1   url           6853 non-null   object \n",
      " 2   region        6853 non-null   object \n",
      " 3   region_url    6853 non-null   object \n",
      " 4   price         6853 non-null   int64  \n",
      " 5   year          6853 non-null   float64\n",
      " 6   manufacturer  6852 non-null   object \n",
      " 7   model         6853 non-null   object \n",
      " 8   condition     3608 non-null   object \n",
      " 9   cylinders     4641 non-null   object \n",
      " 10  fuel          6853 non-null   object \n",
      " 11  odometer      6163 non-null   float64\n",
      " 12  title_status  6841 non-null   object \n",
      " 13  transmission  6853 non-null   object \n",
      " 14  vin           4538 non-null   object \n",
      " 15  drive         6312 non-null   object \n",
      " 16  size          3124 non-null   object \n",
      " 17  type          6853 non-null   object \n",
      " 18  paint_color   5715 non-null   object \n",
      " 19  image_url     6853 non-null   object \n",
      " 20  description   6853 non-null   object \n",
      " 21  county        0 non-null      object \n",
      " 22  state         6853 non-null   object \n",
      " 23  lat           6796 non-null   float64\n",
      " 24  long          6796 non-null   float64\n",
      "dtypes: float64(4), int64(2), object(19)\n",
      "memory usage: 1.4+ MB\n"
     ]
    }
   ],
   "source": [
    "df.info()"
   ]
  },
  {
   "cell_type": "code",
   "execution_count": 110,
   "metadata": {},
   "outputs": [
    {
     "data": {
      "text/html": [
       "<div>\n",
       "<style scoped>\n",
       "    .dataframe tbody tr th:only-of-type {\n",
       "        vertical-align: middle;\n",
       "    }\n",
       "\n",
       "    .dataframe tbody tr th {\n",
       "        vertical-align: top;\n",
       "    }\n",
       "\n",
       "    .dataframe thead th {\n",
       "        text-align: right;\n",
       "    }\n",
       "</style>\n",
       "<table border=\"1\" class=\"dataframe\">\n",
       "  <thead>\n",
       "    <tr style=\"text-align: right;\">\n",
       "      <th></th>\n",
       "      <th>id</th>\n",
       "      <th>price</th>\n",
       "      <th>year</th>\n",
       "      <th>odometer</th>\n",
       "      <th>lat</th>\n",
       "      <th>long</th>\n",
       "    </tr>\n",
       "  </thead>\n",
       "  <tbody>\n",
       "    <tr>\n",
       "      <th>count</th>\n",
       "      <td>6.853000e+03</td>\n",
       "      <td>6.853000e+03</td>\n",
       "      <td>6853.000000</td>\n",
       "      <td>6.163000e+03</td>\n",
       "      <td>6796.000000</td>\n",
       "      <td>6796.000000</td>\n",
       "    </tr>\n",
       "    <tr>\n",
       "      <th>mean</th>\n",
       "      <td>7.087674e+09</td>\n",
       "      <td>1.528763e+04</td>\n",
       "      <td>2010.684518</td>\n",
       "      <td>1.054187e+05</td>\n",
       "      <td>37.127656</td>\n",
       "      <td>-99.643729</td>\n",
       "    </tr>\n",
       "    <tr>\n",
       "      <th>std</th>\n",
       "      <td>5.375831e+06</td>\n",
       "      <td>1.344977e+05</td>\n",
       "      <td>6.245581</td>\n",
       "      <td>7.583317e+04</td>\n",
       "      <td>6.801116</td>\n",
       "      <td>17.983059</td>\n",
       "    </tr>\n",
       "    <tr>\n",
       "      <th>min</th>\n",
       "      <td>7.074439e+09</td>\n",
       "      <td>0.000000e+00</td>\n",
       "      <td>1973.000000</td>\n",
       "      <td>0.000000e+00</td>\n",
       "      <td>-67.501400</td>\n",
       "      <td>-124.249000</td>\n",
       "    </tr>\n",
       "    <tr>\n",
       "      <th>25%</th>\n",
       "      <td>7.084084e+09</td>\n",
       "      <td>4.995000e+03</td>\n",
       "      <td>2007.000000</td>\n",
       "      <td>5.371700e+04</td>\n",
       "      <td>31.477125</td>\n",
       "      <td>-119.789000</td>\n",
       "    </tr>\n",
       "    <tr>\n",
       "      <th>50%</th>\n",
       "      <td>7.089132e+09</td>\n",
       "      <td>1.199500e+04</td>\n",
       "      <td>2012.000000</td>\n",
       "      <td>1.000000e+05</td>\n",
       "      <td>37.623700</td>\n",
       "      <td>-97.262600</td>\n",
       "    </tr>\n",
       "    <tr>\n",
       "      <th>75%</th>\n",
       "      <td>7.092369e+09</td>\n",
       "      <td>2.049000e+04</td>\n",
       "      <td>2015.000000</td>\n",
       "      <td>1.451420e+05</td>\n",
       "      <td>42.902450</td>\n",
       "      <td>-81.738800</td>\n",
       "    </tr>\n",
       "    <tr>\n",
       "      <th>max</th>\n",
       "      <td>7.093534e+09</td>\n",
       "      <td>1.111111e+07</td>\n",
       "      <td>2020.000000</td>\n",
       "      <td>2.799000e+06</td>\n",
       "      <td>51.183200</td>\n",
       "      <td>56.213200</td>\n",
       "    </tr>\n",
       "  </tbody>\n",
       "</table>\n",
       "</div>"
      ],
      "text/plain": [
       "                 id         price         year      odometer          lat  \\\n",
       "count  6.853000e+03  6.853000e+03  6853.000000  6.163000e+03  6796.000000   \n",
       "mean   7.087674e+09  1.528763e+04  2010.684518  1.054187e+05    37.127656   \n",
       "std    5.375831e+06  1.344977e+05     6.245581  7.583317e+04     6.801116   \n",
       "min    7.074439e+09  0.000000e+00  1973.000000  0.000000e+00   -67.501400   \n",
       "25%    7.084084e+09  4.995000e+03  2007.000000  5.371700e+04    31.477125   \n",
       "50%    7.089132e+09  1.199500e+04  2012.000000  1.000000e+05    37.623700   \n",
       "75%    7.092369e+09  2.049000e+04  2015.000000  1.451420e+05    42.902450   \n",
       "max    7.093534e+09  1.111111e+07  2020.000000  2.799000e+06    51.183200   \n",
       "\n",
       "              long  \n",
       "count  6796.000000  \n",
       "mean    -99.643729  \n",
       "std      17.983059  \n",
       "min    -124.249000  \n",
       "25%    -119.789000  \n",
       "50%     -97.262600  \n",
       "75%     -81.738800  \n",
       "max      56.213200  "
      ]
     },
     "execution_count": 110,
     "metadata": {},
     "output_type": "execute_result"
    }
   ],
   "source": [
    "df.describe()"
   ]
  },
  {
   "cell_type": "code",
   "execution_count": 111,
   "metadata": {},
   "outputs": [
    {
     "data": {
      "text/plain": [
       "id                 0\n",
       "url                0\n",
       "region             0\n",
       "region_url         0\n",
       "price              0\n",
       "year               0\n",
       "manufacturer       1\n",
       "model              0\n",
       "condition       3245\n",
       "cylinders       2212\n",
       "fuel               0\n",
       "odometer         690\n",
       "title_status      12\n",
       "transmission       0\n",
       "vin             2315\n",
       "drive            541\n",
       "size            3729\n",
       "type               0\n",
       "paint_color     1138\n",
       "image_url          0\n",
       "description        0\n",
       "county          6853\n",
       "state              0\n",
       "lat               57\n",
       "long              57\n",
       "dtype: int64"
      ]
     },
     "execution_count": 111,
     "metadata": {},
     "output_type": "execute_result"
    }
   ],
   "source": [
    "df.isnull().sum()"
   ]
  },
  {
   "cell_type": "code",
   "execution_count": 112,
   "metadata": {},
   "outputs": [
    {
     "data": {
      "text/plain": [
       "(6853, 25)"
      ]
     },
     "execution_count": 112,
     "metadata": {},
     "output_type": "execute_result"
    }
   ],
   "source": [
    "df.shape"
   ]
  },
  {
   "cell_type": "code",
   "execution_count": 113,
   "metadata": {},
   "outputs": [
    {
     "data": {
      "text/plain": [
       "5TFLU4ENXCX041079    20\n",
       "3TMCZ5AN7JM138269    19\n",
       "3TMDZ5BN4GM010566    19\n",
       "5TEMU52N26Z150728    19\n",
       "1FTFW1EF0EKE49282    16\n",
       "                     ..\n",
       "19XFB2F52CE060232     1\n",
       "1FTNW21FX3EA62306     1\n",
       "1FTEW1CF6HKE48933     1\n",
       "1FTFW1ET2EFB64971     1\n",
       "1GC4KYC86FF616447     1\n",
       "Name: vin, Length: 2734, dtype: int64"
      ]
     },
     "execution_count": 113,
     "metadata": {},
     "output_type": "execute_result"
    }
   ],
   "source": [
    "df.vin.value_counts()"
   ]
  },
  {
   "cell_type": "code",
   "execution_count": 114,
   "metadata": {},
   "outputs": [
    {
     "data": {
      "text/plain": [
       "4wd    3299\n",
       "fwd    1865\n",
       "rwd    1148\n",
       "Name: drive, dtype: int64"
      ]
     },
     "execution_count": 114,
     "metadata": {},
     "output_type": "execute_result"
    }
   ],
   "source": [
    "df.drive.value_counts()"
   ]
  },
  {
   "cell_type": "code",
   "execution_count": 115,
   "metadata": {},
   "outputs": [
    {
     "data": {
      "text/plain": [
       "full-size      2217\n",
       "mid-size        513\n",
       "compact         347\n",
       "sub-compact      47\n",
       "Name: size, dtype: int64"
      ]
     },
     "execution_count": 115,
     "metadata": {},
     "output_type": "execute_result"
    }
   ],
   "source": [
    "df['size'].value_counts()"
   ]
  },
  {
   "cell_type": "code",
   "execution_count": 116,
   "metadata": {},
   "outputs": [
    {
     "data": {
      "text/plain": [
       "pickup       2875\n",
       "truck        2242\n",
       "sedan        1681\n",
       "hatchback      50\n",
       "van             4\n",
       "wagon           1\n",
       "Name: type, dtype: int64"
      ]
     },
     "execution_count": 116,
     "metadata": {},
     "output_type": "execute_result"
    }
   ],
   "source": [
    "df['type'].value_counts()"
   ]
  },
  {
   "cell_type": "markdown",
   "metadata": {},
   "source": [
    "#### Dealing with missing values"
   ]
  },
  {
   "cell_type": "code",
   "execution_count": 117,
   "metadata": {},
   "outputs": [],
   "source": [
    "df = df.drop(columns = 'county') # country column is NaN?"
   ]
  },
  {
   "cell_type": "code",
   "execution_count": 118,
   "metadata": {},
   "outputs": [],
   "source": [
    "df.drop(columns = ['id', 'url', 'region_url', 'vin', 'image_url', 'region', 'lat', 'long'], inplace = True)"
   ]
  },
  {
   "cell_type": "code",
   "execution_count": 119,
   "metadata": {},
   "outputs": [],
   "source": [
    "# color_list = list(df.paint_color.unique())\n",
    "# color_list.remove(None)"
   ]
  },
  {
   "cell_type": "code",
   "execution_count": 120,
   "metadata": {},
   "outputs": [],
   "source": [
    "# color_list"
   ]
  },
  {
   "cell_type": "code",
   "execution_count": 121,
   "metadata": {},
   "outputs": [],
   "source": [
    "# def check_for_color(x):\n",
    "#     if x is not None:\n",
    "#         for i in color_list:\n",
    "#             if i in x.lower().split():\n",
    "#                 return i"
   ]
  },
  {
   "cell_type": "code",
   "execution_count": 122,
   "metadata": {},
   "outputs": [],
   "source": [
    "# df['color'] = df['description'].apply(check_for_color)"
   ]
  },
  {
   "cell_type": "code",
   "execution_count": 123,
   "metadata": {},
   "outputs": [],
   "source": [
    "# df.color.value_counts()"
   ]
  },
  {
   "cell_type": "code",
   "execution_count": 124,
   "metadata": {},
   "outputs": [],
   "source": [
    "# df['color'] = np.where(df['paint_color']== None, df['color'], df['paint_color'])"
   ]
  },
  {
   "cell_type": "code",
   "execution_count": 125,
   "metadata": {},
   "outputs": [
    {
     "data": {
      "text/plain": [
       "price              0\n",
       "year               0\n",
       "manufacturer       1\n",
       "model              0\n",
       "condition       3245\n",
       "cylinders       2212\n",
       "fuel               0\n",
       "odometer         690\n",
       "title_status      12\n",
       "transmission       0\n",
       "drive            541\n",
       "size            3729\n",
       "type               0\n",
       "paint_color     1138\n",
       "description        0\n",
       "state              0\n",
       "dtype: int64"
      ]
     },
     "execution_count": 125,
     "metadata": {},
     "output_type": "execute_result"
    }
   ],
   "source": [
    "df.isnull().sum()"
   ]
  },
  {
   "cell_type": "code",
   "execution_count": 126,
   "metadata": {},
   "outputs": [],
   "source": [
    "df.drop(columns = ['condition', 'cylinders', 'title_status', 'drive', 'size', 'description'], axis = 1, \n",
    "        inplace = True)"
   ]
  },
  {
   "cell_type": "code",
   "execution_count": 127,
   "metadata": {},
   "outputs": [],
   "source": [
    "df = df.dropna()"
   ]
  },
  {
   "cell_type": "code",
   "execution_count": 128,
   "metadata": {},
   "outputs": [
    {
     "data": {
      "text/plain": [
       "(5131, 10)"
      ]
     },
     "execution_count": 128,
     "metadata": {},
     "output_type": "execute_result"
    }
   ],
   "source": [
    "df.shape"
   ]
  },
  {
   "cell_type": "code",
   "execution_count": 129,
   "metadata": {},
   "outputs": [],
   "source": [
    "df.rename(columns = {\"price\": \"customer_price\", \"manufacturer\": \"manufacturer_id\", \n",
    "                  \"model\": \"model_id\", \"odometer\": \"mileage\", \"paint_color\": \"color\"}, inplace = True)"
   ]
  },
  {
   "cell_type": "code",
   "execution_count": 130,
   "metadata": {},
   "outputs": [
    {
     "data": {
      "text/html": [
       "<div>\n",
       "<style scoped>\n",
       "    .dataframe tbody tr th:only-of-type {\n",
       "        vertical-align: middle;\n",
       "    }\n",
       "\n",
       "    .dataframe tbody tr th {\n",
       "        vertical-align: top;\n",
       "    }\n",
       "\n",
       "    .dataframe thead th {\n",
       "        text-align: right;\n",
       "    }\n",
       "</style>\n",
       "<table border=\"1\" class=\"dataframe\">\n",
       "  <thead>\n",
       "    <tr style=\"text-align: right;\">\n",
       "      <th></th>\n",
       "      <th>customer_price</th>\n",
       "      <th>year</th>\n",
       "      <th>manufacturer_id</th>\n",
       "      <th>model_id</th>\n",
       "      <th>fuel</th>\n",
       "      <th>mileage</th>\n",
       "      <th>transmission</th>\n",
       "      <th>type</th>\n",
       "      <th>color</th>\n",
       "      <th>state</th>\n",
       "    </tr>\n",
       "  </thead>\n",
       "  <tbody>\n",
       "    <tr>\n",
       "      <th>18</th>\n",
       "      <td>1</td>\n",
       "      <td>2011.0</td>\n",
       "      <td>toyota</td>\n",
       "      <td>tacoma</td>\n",
       "      <td>gas</td>\n",
       "      <td>168955.0</td>\n",
       "      <td>automatic</td>\n",
       "      <td>truck</td>\n",
       "      <td>silver</td>\n",
       "      <td>tx</td>\n",
       "    </tr>\n",
       "    <tr>\n",
       "      <th>141</th>\n",
       "      <td>20988</td>\n",
       "      <td>2011.0</td>\n",
       "      <td>chevrolet</td>\n",
       "      <td>silverado</td>\n",
       "      <td>gas</td>\n",
       "      <td>82000.0</td>\n",
       "      <td>automatic</td>\n",
       "      <td>truck</td>\n",
       "      <td>white</td>\n",
       "      <td>tx</td>\n",
       "    </tr>\n",
       "    <tr>\n",
       "      <th>221</th>\n",
       "      <td>13699</td>\n",
       "      <td>2004.0</td>\n",
       "      <td>chevrolet</td>\n",
       "      <td>silverado</td>\n",
       "      <td>gas</td>\n",
       "      <td>135101.0</td>\n",
       "      <td>automatic</td>\n",
       "      <td>truck</td>\n",
       "      <td>green</td>\n",
       "      <td>va</td>\n",
       "    </tr>\n",
       "    <tr>\n",
       "      <th>520</th>\n",
       "      <td>20818</td>\n",
       "      <td>2013.0</td>\n",
       "      <td>ford</td>\n",
       "      <td>f-150</td>\n",
       "      <td>gas</td>\n",
       "      <td>50278.0</td>\n",
       "      <td>automatic</td>\n",
       "      <td>truck</td>\n",
       "      <td>red</td>\n",
       "      <td>wi</td>\n",
       "    </tr>\n",
       "    <tr>\n",
       "      <th>642</th>\n",
       "      <td>4800</td>\n",
       "      <td>1997.0</td>\n",
       "      <td>ford</td>\n",
       "      <td>f-150</td>\n",
       "      <td>gas</td>\n",
       "      <td>111000.0</td>\n",
       "      <td>automatic</td>\n",
       "      <td>truck</td>\n",
       "      <td>white</td>\n",
       "      <td>tx</td>\n",
       "    </tr>\n",
       "  </tbody>\n",
       "</table>\n",
       "</div>"
      ],
      "text/plain": [
       "     customer_price    year manufacturer_id   model_id fuel   mileage  \\\n",
       "18                1  2011.0          toyota     tacoma  gas  168955.0   \n",
       "141           20988  2011.0       chevrolet  silverado  gas   82000.0   \n",
       "221           13699  2004.0       chevrolet  silverado  gas  135101.0   \n",
       "520           20818  2013.0            ford      f-150  gas   50278.0   \n",
       "642            4800  1997.0            ford      f-150  gas  111000.0   \n",
       "\n",
       "    transmission   type   color state  \n",
       "18     automatic  truck  silver    tx  \n",
       "141    automatic  truck   white    tx  \n",
       "221    automatic  truck   green    va  \n",
       "520    automatic  truck     red    wi  \n",
       "642    automatic  truck   white    tx  "
      ]
     },
     "execution_count": 130,
     "metadata": {},
     "output_type": "execute_result"
    }
   ],
   "source": [
    "df.head()"
   ]
  },
  {
   "cell_type": "code",
   "execution_count": 133,
   "metadata": {},
   "outputs": [],
   "source": [
    "# def cylinder_transformation(x):\n",
    "#     if x != 'other':\n",
    "#         return int(x.split()[0])\n",
    "#     elif x == 'other':\n",
    "#         return 'other'\n",
    "\n",
    "# df['cylinders'] = df['cylinders'].apply(cylinder_transformation)"
   ]
  },
  {
   "cell_type": "code",
   "execution_count": 134,
   "metadata": {},
   "outputs": [],
   "source": [
    "df = pd.get_dummies(df)"
   ]
  },
  {
   "cell_type": "code",
   "execution_count": 135,
   "metadata": {},
   "outputs": [
    {
     "data": {
      "text/plain": [
       "(5010, 43)"
      ]
     },
     "execution_count": 135,
     "metadata": {},
     "output_type": "execute_result"
    }
   ],
   "source": [
    "df.shape"
   ]
  },
  {
   "cell_type": "code",
   "execution_count": 136,
   "metadata": {},
   "outputs": [
    {
     "data": {
      "text/html": [
       "<div>\n",
       "<style scoped>\n",
       "    .dataframe tbody tr th:only-of-type {\n",
       "        vertical-align: middle;\n",
       "    }\n",
       "\n",
       "    .dataframe tbody tr th {\n",
       "        vertical-align: top;\n",
       "    }\n",
       "\n",
       "    .dataframe thead th {\n",
       "        text-align: right;\n",
       "    }\n",
       "</style>\n",
       "<table border=\"1\" class=\"dataframe\">\n",
       "  <thead>\n",
       "    <tr style=\"text-align: right;\">\n",
       "      <th></th>\n",
       "      <th>customer_price</th>\n",
       "      <th>year</th>\n",
       "      <th>mileage</th>\n",
       "      <th>manufacturer_id_chevrolet</th>\n",
       "      <th>manufacturer_id_dodge</th>\n",
       "      <th>manufacturer_id_ford</th>\n",
       "      <th>manufacturer_id_honda</th>\n",
       "      <th>manufacturer_id_toyota</th>\n",
       "      <th>model_id_camry</th>\n",
       "      <th>model_id_civic</th>\n",
       "      <th>...</th>\n",
       "      <th>color_white</th>\n",
       "      <th>color_yellow</th>\n",
       "      <th>state_ca</th>\n",
       "      <th>state_fl</th>\n",
       "      <th>state_mn</th>\n",
       "      <th>state_ny</th>\n",
       "      <th>state_tx</th>\n",
       "      <th>state_va</th>\n",
       "      <th>state_wa</th>\n",
       "      <th>state_wi</th>\n",
       "    </tr>\n",
       "  </thead>\n",
       "  <tbody>\n",
       "    <tr>\n",
       "      <th>18</th>\n",
       "      <td>1</td>\n",
       "      <td>2011.0</td>\n",
       "      <td>168955.0</td>\n",
       "      <td>0</td>\n",
       "      <td>0</td>\n",
       "      <td>0</td>\n",
       "      <td>0</td>\n",
       "      <td>1</td>\n",
       "      <td>0</td>\n",
       "      <td>0</td>\n",
       "      <td>...</td>\n",
       "      <td>0</td>\n",
       "      <td>0</td>\n",
       "      <td>0</td>\n",
       "      <td>0</td>\n",
       "      <td>0</td>\n",
       "      <td>0</td>\n",
       "      <td>1</td>\n",
       "      <td>0</td>\n",
       "      <td>0</td>\n",
       "      <td>0</td>\n",
       "    </tr>\n",
       "    <tr>\n",
       "      <th>141</th>\n",
       "      <td>20988</td>\n",
       "      <td>2011.0</td>\n",
       "      <td>82000.0</td>\n",
       "      <td>1</td>\n",
       "      <td>0</td>\n",
       "      <td>0</td>\n",
       "      <td>0</td>\n",
       "      <td>0</td>\n",
       "      <td>0</td>\n",
       "      <td>0</td>\n",
       "      <td>...</td>\n",
       "      <td>1</td>\n",
       "      <td>0</td>\n",
       "      <td>0</td>\n",
       "      <td>0</td>\n",
       "      <td>0</td>\n",
       "      <td>0</td>\n",
       "      <td>1</td>\n",
       "      <td>0</td>\n",
       "      <td>0</td>\n",
       "      <td>0</td>\n",
       "    </tr>\n",
       "    <tr>\n",
       "      <th>221</th>\n",
       "      <td>13699</td>\n",
       "      <td>2004.0</td>\n",
       "      <td>135101.0</td>\n",
       "      <td>1</td>\n",
       "      <td>0</td>\n",
       "      <td>0</td>\n",
       "      <td>0</td>\n",
       "      <td>0</td>\n",
       "      <td>0</td>\n",
       "      <td>0</td>\n",
       "      <td>...</td>\n",
       "      <td>0</td>\n",
       "      <td>0</td>\n",
       "      <td>0</td>\n",
       "      <td>0</td>\n",
       "      <td>0</td>\n",
       "      <td>0</td>\n",
       "      <td>0</td>\n",
       "      <td>1</td>\n",
       "      <td>0</td>\n",
       "      <td>0</td>\n",
       "    </tr>\n",
       "    <tr>\n",
       "      <th>520</th>\n",
       "      <td>20818</td>\n",
       "      <td>2013.0</td>\n",
       "      <td>50278.0</td>\n",
       "      <td>0</td>\n",
       "      <td>0</td>\n",
       "      <td>1</td>\n",
       "      <td>0</td>\n",
       "      <td>0</td>\n",
       "      <td>0</td>\n",
       "      <td>0</td>\n",
       "      <td>...</td>\n",
       "      <td>0</td>\n",
       "      <td>0</td>\n",
       "      <td>0</td>\n",
       "      <td>0</td>\n",
       "      <td>0</td>\n",
       "      <td>0</td>\n",
       "      <td>0</td>\n",
       "      <td>0</td>\n",
       "      <td>0</td>\n",
       "      <td>1</td>\n",
       "    </tr>\n",
       "    <tr>\n",
       "      <th>642</th>\n",
       "      <td>4800</td>\n",
       "      <td>1997.0</td>\n",
       "      <td>111000.0</td>\n",
       "      <td>0</td>\n",
       "      <td>0</td>\n",
       "      <td>1</td>\n",
       "      <td>0</td>\n",
       "      <td>0</td>\n",
       "      <td>0</td>\n",
       "      <td>0</td>\n",
       "      <td>...</td>\n",
       "      <td>1</td>\n",
       "      <td>0</td>\n",
       "      <td>0</td>\n",
       "      <td>0</td>\n",
       "      <td>0</td>\n",
       "      <td>0</td>\n",
       "      <td>1</td>\n",
       "      <td>0</td>\n",
       "      <td>0</td>\n",
       "      <td>0</td>\n",
       "    </tr>\n",
       "  </tbody>\n",
       "</table>\n",
       "<p>5 rows × 43 columns</p>\n",
       "</div>"
      ],
      "text/plain": [
       "     customer_price    year   mileage  manufacturer_id_chevrolet  \\\n",
       "18                1  2011.0  168955.0                          0   \n",
       "141           20988  2011.0   82000.0                          1   \n",
       "221           13699  2004.0  135101.0                          1   \n",
       "520           20818  2013.0   50278.0                          0   \n",
       "642            4800  1997.0  111000.0                          0   \n",
       "\n",
       "     manufacturer_id_dodge  manufacturer_id_ford  manufacturer_id_honda  \\\n",
       "18                       0                     0                      0   \n",
       "141                      0                     0                      0   \n",
       "221                      0                     0                      0   \n",
       "520                      0                     1                      0   \n",
       "642                      0                     1                      0   \n",
       "\n",
       "     manufacturer_id_toyota  model_id_camry  model_id_civic  ...  color_white  \\\n",
       "18                        1               0               0  ...            0   \n",
       "141                       0               0               0  ...            1   \n",
       "221                       0               0               0  ...            0   \n",
       "520                       0               0               0  ...            0   \n",
       "642                       0               0               0  ...            1   \n",
       "\n",
       "     color_yellow  state_ca  state_fl  state_mn  state_ny  state_tx  state_va  \\\n",
       "18              0         0         0         0         0         1         0   \n",
       "141             0         0         0         0         0         1         0   \n",
       "221             0         0         0         0         0         0         1   \n",
       "520             0         0         0         0         0         0         0   \n",
       "642             0         0         0         0         0         1         0   \n",
       "\n",
       "     state_wa  state_wi  \n",
       "18          0         0  \n",
       "141         0         0  \n",
       "221         0         0  \n",
       "520         0         1  \n",
       "642         0         0  \n",
       "\n",
       "[5 rows x 43 columns]"
      ]
     },
     "execution_count": 136,
     "metadata": {},
     "output_type": "execute_result"
    }
   ],
   "source": [
    "df.head()"
   ]
  },
  {
   "cell_type": "code",
   "execution_count": 137,
   "metadata": {},
   "outputs": [
    {
     "data": {
      "text/plain": [
       "['customer_price',\n",
       " 'year',\n",
       " 'mileage',\n",
       " 'manufacturer_id_chevrolet',\n",
       " 'manufacturer_id_dodge',\n",
       " 'manufacturer_id_ford',\n",
       " 'manufacturer_id_honda',\n",
       " 'manufacturer_id_toyota',\n",
       " 'model_id_camry',\n",
       " 'model_id_civic',\n",
       " 'model_id_f-150',\n",
       " 'model_id_silverado',\n",
       " 'model_id_tacoma',\n",
       " 'fuel_diesel',\n",
       " 'fuel_gas',\n",
       " 'transmission_automatic',\n",
       " 'transmission_manual',\n",
       " 'transmission_other',\n",
       " 'type_hatchback',\n",
       " 'type_pickup',\n",
       " 'type_sedan',\n",
       " 'type_truck',\n",
       " 'type_van',\n",
       " 'type_wagon',\n",
       " 'color_black',\n",
       " 'color_blue',\n",
       " 'color_brown',\n",
       " 'color_green',\n",
       " 'color_grey',\n",
       " 'color_orange',\n",
       " 'color_purple',\n",
       " 'color_red',\n",
       " 'color_silver',\n",
       " 'color_white',\n",
       " 'color_yellow',\n",
       " 'state_ca',\n",
       " 'state_fl',\n",
       " 'state_mn',\n",
       " 'state_ny',\n",
       " 'state_tx',\n",
       " 'state_va',\n",
       " 'state_wa',\n",
       " 'state_wi']"
      ]
     },
     "execution_count": 137,
     "metadata": {},
     "output_type": "execute_result"
    }
   ],
   "source": [
    "list(df.columns)"
   ]
  },
  {
   "cell_type": "code",
   "execution_count": 138,
   "metadata": {},
   "outputs": [
    {
     "data": {
      "text/plain": [
       "(5010, 43)"
      ]
     },
     "execution_count": 138,
     "metadata": {},
     "output_type": "execute_result"
    }
   ],
   "source": [
    "df.shape"
   ]
  },
  {
   "cell_type": "markdown",
   "metadata": {},
   "source": [
    "##### Model training "
   ]
  },
  {
   "cell_type": "code",
   "execution_count": 162,
   "metadata": {},
   "outputs": [],
   "source": [
    "y = df['customer_price']\n",
    "X = df.drop('customer_price', axis = 1)"
   ]
  },
  {
   "cell_type": "code",
   "execution_count": 163,
   "metadata": {},
   "outputs": [
    {
     "data": {
      "text/plain": [
       "((439815, 2), (439815,))"
      ]
     },
     "execution_count": 163,
     "metadata": {},
     "output_type": "execute_result"
    }
   ],
   "source": [
    "X.shape, y.shape"
   ]
  },
  {
   "cell_type": "code",
   "execution_count": 164,
   "metadata": {},
   "outputs": [],
   "source": [
    "X_train, X_test, y_train, y_test = train_test_split(X, y, test_size = 0.3, random_state = 42)"
   ]
  },
  {
   "cell_type": "code",
   "execution_count": 165,
   "metadata": {},
   "outputs": [
    {
     "name": "stdout",
     "output_type": "stream",
     "text": [
      "283172.4613790094\n"
     ]
    }
   ],
   "source": [
    "from sklearn.linear_model import LinearRegression\n",
    "linreg = LinearRegression()\n",
    "\n",
    "linreg.fit(X_train, y_train)\n",
    "\n",
    "from sklearn.metrics import mean_absolute_error\n",
    "# Evaluation on test dataset\n",
    "y_pred_linreg = linreg.predict(X_test)\n",
    "print(mean_absolute_error(y_test, y_pred_linreg))"
   ]
  },
  {
   "cell_type": "code",
   "execution_count": 166,
   "metadata": {},
   "outputs": [],
   "source": [
    "# save the model to disk\n",
    "import pickle\n",
    "filename = 'linreg.sav'\n",
    "pickle.dump(linreg, open(filename, 'wb'))"
   ]
  },
  {
   "cell_type": "markdown",
   "metadata": {},
   "source": [
    "#### put model to google cloud"
   ]
  },
  {
   "cell_type": "code",
   "execution_count": 167,
   "metadata": {},
   "outputs": [],
   "source": [
    "client = storage.Client()\n",
    "bucket = client.get_bucket('car_platform_gcs_bucket')\n",
    "blob = bucket.blob('models/linreg.sav')\n",
    "blob.upload_from_filename('linreg.sav')"
   ]
  },
  {
   "cell_type": "code",
   "execution_count": 59,
   "metadata": {},
   "outputs": [],
   "source": [
    "### tunning"
   ]
  },
  {
   "cell_type": "code",
   "execution_count": 168,
   "metadata": {},
   "outputs": [
    {
     "name": "stdout",
     "output_type": "stream",
     "text": [
      "Fitting 5 folds for each of 5 candidates, totalling 25 fits\n"
     ]
    },
    {
     "name": "stderr",
     "output_type": "stream",
     "text": [
      "/Users/marichka/anaconda3/lib/python3.7/site-packages/sklearn/model_selection/_split.py:652: Warning: The least populated class in y has only 1 members, which is too few. The minimum number of members in any class cannot be less than n_splits=5.\n",
      "  % (min_groups, self.n_splits)), Warning)\n",
      "[Parallel(n_jobs=-1)]: Using backend LokyBackend with 8 concurrent workers.\n",
      "[Parallel(n_jobs=-1)]: Done  25 out of  25 | elapsed:    3.8s finished\n",
      "/Users/marichka/anaconda3/lib/python3.7/site-packages/sklearn/model_selection/_search.py:841: DeprecationWarning: The default of the `iid` parameter will change from True to False in version 0.22 and will be removed in 0.24. This will change numeric results when test-set sizes are unequal.\n",
      "  DeprecationWarning)\n"
     ]
    },
    {
     "data": {
      "text/plain": [
       "GridSearchCV(cv=StratifiedKFold(n_splits=5, random_state=42, shuffle=True),\n",
       "       error_score='raise-deprecating',\n",
       "       estimator=Lasso(alpha=1.0, copy_X=True, fit_intercept=True, max_iter=1000,\n",
       "   normalize=True, positive=False, precompute=False, random_state=None,\n",
       "   selection='cyclic', tol=0.0001, warm_start=False),\n",
       "       fit_params=None, iid='warn', n_jobs=-1,\n",
       "       param_grid={'alpha': [0.05, 0.1, 0.5, 0.75, 1]},\n",
       "       pre_dispatch='2*n_jobs', refit=True, return_train_score='warn',\n",
       "       scoring='neg_mean_absolute_error', verbose=1)"
      ]
     },
     "execution_count": 168,
     "metadata": {},
     "output_type": "execute_result"
    }
   ],
   "source": [
    "skf5 = StratifiedKFold(n_splits = 5, shuffle = True, random_state = 42)\n",
    "\n",
    "from sklearn.linear_model import Lasso\n",
    "\n",
    "parameters = {'alpha': [0.05, 0.1, 0.5, 0.75, 1]}\n",
    "lassoreg = Lasso(normalize = True)\n",
    "lassoreg_gcv = GridSearchCV(lassoreg, parameters, n_jobs = -1, cv = skf5, verbose = 1, \n",
    "                    scoring = 'neg_mean_absolute_error')\n",
    "lassoreg_gcv.fit(X_train, y_train)"
   ]
  },
  {
   "cell_type": "code",
   "execution_count": 169,
   "metadata": {},
   "outputs": [
    {
     "data": {
      "text/plain": [
       "-243436.1783071265"
      ]
     },
     "execution_count": 169,
     "metadata": {},
     "output_type": "execute_result"
    }
   ],
   "source": [
    "lassoreg_gcv.best_score_"
   ]
  },
  {
   "cell_type": "code",
   "execution_count": 170,
   "metadata": {},
   "outputs": [
    {
     "data": {
      "text/plain": [
       "{'alpha': 1}"
      ]
     },
     "execution_count": 170,
     "metadata": {},
     "output_type": "execute_result"
    }
   ],
   "source": [
    "lassoreg_gcv.best_params_"
   ]
  },
  {
   "cell_type": "code",
   "execution_count": 171,
   "metadata": {},
   "outputs": [],
   "source": [
    "# Initialize our classifier with default parameters\n",
    "lassoreg = Lasso(normalize = True, alpha = 1)\n",
    "\n",
    "# Evaluation on test dataset\n",
    "y_pred_lassoreg = lassoreg.fit(X_train, y_train).predict(X_test)"
   ]
  },
  {
   "cell_type": "code",
   "execution_count": 172,
   "metadata": {},
   "outputs": [],
   "source": [
    "# save the model to disk\n",
    "import pickle\n",
    "filename = 'lassoreg.sav'\n",
    "pickle.dump(lassoreg, open(filename, 'wb'))"
   ]
  },
  {
   "cell_type": "markdown",
   "metadata": {},
   "source": [
    "#### put model to google cloud"
   ]
  },
  {
   "cell_type": "code",
   "execution_count": 173,
   "metadata": {},
   "outputs": [],
   "source": [
    "client = storage.Client()\n",
    "bucket = client.get_bucket('car_platform_gcs_bucket')\n",
    "blob = bucket.blob('models/lassoreg.sav')\n",
    "blob.upload_from_filename('lassoreg.sav')"
   ]
  },
  {
   "cell_type": "code",
   "execution_count": null,
   "metadata": {},
   "outputs": [],
   "source": [
    "##prediction"
   ]
  },
  {
   "cell_type": "code",
   "execution_count": 182,
   "metadata": {},
   "outputs": [],
   "source": [
    "car_attributes = {'manufacturer_id': 'ford', 'model_id': 'f-150', 'fuel': 'gas', \n",
    "     'transmission': 'automatic', 'vin': '1FTFW1EF8EFA71429', 'mileage': 4000, \n",
    "     'year': 1990, 'type': 'sedan', 'color': 'gray'}\n",
    "df = pd.DataFrame.from_dict(car_attributes, orient='index').T\n",
    "df = df[['year', 'mileage']]"
   ]
  },
  {
   "cell_type": "code",
   "execution_count": 183,
   "metadata": {},
   "outputs": [
    {
     "data": {
      "text/html": [
       "<div>\n",
       "<style scoped>\n",
       "    .dataframe tbody tr th:only-of-type {\n",
       "        vertical-align: middle;\n",
       "    }\n",
       "\n",
       "    .dataframe tbody tr th {\n",
       "        vertical-align: top;\n",
       "    }\n",
       "\n",
       "    .dataframe thead th {\n",
       "        text-align: right;\n",
       "    }\n",
       "</style>\n",
       "<table border=\"1\" class=\"dataframe\">\n",
       "  <thead>\n",
       "    <tr style=\"text-align: right;\">\n",
       "      <th></th>\n",
       "      <th>year</th>\n",
       "      <th>mileage</th>\n",
       "    </tr>\n",
       "  </thead>\n",
       "  <tbody>\n",
       "    <tr>\n",
       "      <th>0</th>\n",
       "      <td>1990</td>\n",
       "      <td>4000</td>\n",
       "    </tr>\n",
       "  </tbody>\n",
       "</table>\n",
       "</div>"
      ],
      "text/plain": [
       "   year mileage\n",
       "0  1990    4000"
      ]
     },
     "execution_count": 183,
     "metadata": {},
     "output_type": "execute_result"
    }
   ],
   "source": [
    "df.head()"
   ]
  },
  {
   "cell_type": "code",
   "execution_count": 184,
   "metadata": {},
   "outputs": [],
   "source": [
    "prediction = lassoreg.predict(df)"
   ]
  }
 ],
 "metadata": {
  "kernelspec": {
   "display_name": "Python 3",
   "language": "python",
   "name": "python3"
  },
  "language_info": {
   "codemirror_mode": {
    "name": "ipython",
    "version": 3
   },
   "file_extension": ".py",
   "mimetype": "text/x-python",
   "name": "python",
   "nbconvert_exporter": "python",
   "pygments_lexer": "ipython3",
   "version": "3.7.1"
  }
 },
 "nbformat": 4,
 "nbformat_minor": 2
}
