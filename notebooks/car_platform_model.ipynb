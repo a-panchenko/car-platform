{
 "cells": [
  {
   "cell_type": "code",
   "execution_count": 167,
   "metadata": {},
   "outputs": [],
   "source": [
    "import pandas as pd\n",
    "import numpy as np\n",
    "import pandas_gbq\n",
    "from sklearn.model_selection import train_test_split\n",
    "from sklearn.model_selection import cross_val_score, StratifiedKFold, GridSearchCV, KFold\n",
    "# from io import BytesIO\n",
    "from google.cloud import storage\n",
    "import os"
   ]
  },
  {
   "cell_type": "code",
   "execution_count": null,
   "metadata": {},
   "outputs": [],
   "source": [
    "# df = pd.read_csv('gs://car_platform_gcs_bucket/data/vehicles.csv', sep=\",\")"
   ]
  },
  {
   "cell_type": "code",
   "execution_count": 174,
   "metadata": {},
   "outputs": [],
   "source": [
    "os.environ[\"GOOGLE_APPLICATION_CREDENTIALS\"]=\"./car-platform-273211-beffc197afb6.json\""
   ]
  },
  {
   "cell_type": "code",
   "execution_count": 12,
   "metadata": {},
   "outputs": [],
   "source": [
    "query = \"\"\"\n",
    "SELECT\n",
    "  *\n",
    "FROM\n",
    "  car-platform-273211.car_listings.car_listings\n",
    "\"\"\"\n",
    "df = pd.read_gbq(query,\n",
    "                     project_id='car-platform-273211',\n",
    "                     dialect='standard')"
   ]
  },
  {
   "cell_type": "code",
   "execution_count": 13,
   "metadata": {},
   "outputs": [
    {
     "data": {
      "text/plain": [
       "(539759, 25)"
      ]
     },
     "execution_count": 13,
     "metadata": {},
     "output_type": "execute_result"
    }
   ],
   "source": [
    "df.shape"
   ]
  },
  {
   "cell_type": "code",
   "execution_count": 14,
   "metadata": {},
   "outputs": [
    {
     "data": {
      "text/html": [
       "<div>\n",
       "<style scoped>\n",
       "    .dataframe tbody tr th:only-of-type {\n",
       "        vertical-align: middle;\n",
       "    }\n",
       "\n",
       "    .dataframe tbody tr th {\n",
       "        vertical-align: top;\n",
       "    }\n",
       "\n",
       "    .dataframe thead th {\n",
       "        text-align: right;\n",
       "    }\n",
       "</style>\n",
       "<table border=\"1\" class=\"dataframe\">\n",
       "  <thead>\n",
       "    <tr style=\"text-align: right;\">\n",
       "      <th></th>\n",
       "      <th>id</th>\n",
       "      <th>url</th>\n",
       "      <th>region</th>\n",
       "      <th>region_url</th>\n",
       "      <th>price</th>\n",
       "      <th>year</th>\n",
       "      <th>manufacturer</th>\n",
       "      <th>model</th>\n",
       "      <th>condition</th>\n",
       "      <th>cylinders</th>\n",
       "      <th>...</th>\n",
       "      <th>drive</th>\n",
       "      <th>size</th>\n",
       "      <th>type</th>\n",
       "      <th>paint_color</th>\n",
       "      <th>image_url</th>\n",
       "      <th>description</th>\n",
       "      <th>county</th>\n",
       "      <th>state</th>\n",
       "      <th>lat</th>\n",
       "      <th>long</th>\n",
       "    </tr>\n",
       "  </thead>\n",
       "  <tbody>\n",
       "    <tr>\n",
       "      <th>0</th>\n",
       "      <td>7090040033</td>\n",
       "      <td>https://sd.craigslist.org/cto/d/winner-2013-gm...</td>\n",
       "      <td>south dakota</td>\n",
       "      <td>https://sd.craigslist.org</td>\n",
       "      <td>20000</td>\n",
       "      <td>2013.0</td>\n",
       "      <td>gmc</td>\n",
       "      <td>acadia denali</td>\n",
       "      <td>excellent</td>\n",
       "      <td>None</td>\n",
       "      <td>...</td>\n",
       "      <td>None</td>\n",
       "      <td>None</td>\n",
       "      <td>None</td>\n",
       "      <td>red</td>\n",
       "      <td>https://images.craigslist.org/00A0A_qxTivbw44s...</td>\n",
       "      <td>84,300 miles New tires, well maintained.  Love...</td>\n",
       "      <td>None</td>\n",
       "      <td>sd</td>\n",
       "      <td>43.3318</td>\n",
       "      <td>-99.8033</td>\n",
       "    </tr>\n",
       "    <tr>\n",
       "      <th>1</th>\n",
       "      <td>7074852055</td>\n",
       "      <td>https://pueblo.craigslist.org/ctd/d/pueblo-201...</td>\n",
       "      <td>pueblo</td>\n",
       "      <td>https://pueblo.craigslist.org</td>\n",
       "      <td>5950</td>\n",
       "      <td>2016.0</td>\n",
       "      <td>kia</td>\n",
       "      <td>soul</td>\n",
       "      <td>None</td>\n",
       "      <td>None</td>\n",
       "      <td>...</td>\n",
       "      <td>fwd</td>\n",
       "      <td>None</td>\n",
       "      <td>SUV</td>\n",
       "      <td>black</td>\n",
       "      <td>https://images.craigslist.org/00q0q_2ArR8F6mYq...</td>\n",
       "      <td>2016 KIA SOUL - $5,950 \\tGallery Auto Auction ...</td>\n",
       "      <td>None</td>\n",
       "      <td>co</td>\n",
       "      <td>38.3536</td>\n",
       "      <td>-104.6230</td>\n",
       "    </tr>\n",
       "    <tr>\n",
       "      <th>2</th>\n",
       "      <td>7074738939</td>\n",
       "      <td>https://westslope.craigslist.org/ctd/d/grand-j...</td>\n",
       "      <td>western slope</td>\n",
       "      <td>https://westslope.craigslist.org</td>\n",
       "      <td>4900</td>\n",
       "      <td>2008.0</td>\n",
       "      <td>nissan</td>\n",
       "      <td>altima</td>\n",
       "      <td>None</td>\n",
       "      <td>4 cylinders</td>\n",
       "      <td>...</td>\n",
       "      <td>fwd</td>\n",
       "      <td>None</td>\n",
       "      <td>None</td>\n",
       "      <td>None</td>\n",
       "      <td>https://images.craigslist.org/00V0V_an9fHTokkv...</td>\n",
       "      <td>2008 NISSAN ALTIMA    2008 Nissan Altima S, 2....</td>\n",
       "      <td>None</td>\n",
       "      <td>co</td>\n",
       "      <td>39.0645</td>\n",
       "      <td>-108.5500</td>\n",
       "    </tr>\n",
       "    <tr>\n",
       "      <th>3</th>\n",
       "      <td>7082414500</td>\n",
       "      <td>https://corvallis.craigslist.org/ctd/d/portlan...</td>\n",
       "      <td>corvallis/albany</td>\n",
       "      <td>https://corvallis.craigslist.org</td>\n",
       "      <td>11000</td>\n",
       "      <td>2014.0</td>\n",
       "      <td>chevrolet</td>\n",
       "      <td>cruze</td>\n",
       "      <td>None</td>\n",
       "      <td>4 cylinders</td>\n",
       "      <td>...</td>\n",
       "      <td>fwd</td>\n",
       "      <td>None</td>\n",
       "      <td>sedan</td>\n",
       "      <td>silver</td>\n",
       "      <td>https://images.craigslist.org/00g0g_crAmR9fcFj...</td>\n",
       "      <td>NW Auto Locator Call/Text us at (508) 380-7260...</td>\n",
       "      <td>None</td>\n",
       "      <td>or</td>\n",
       "      <td>45.5303</td>\n",
       "      <td>-122.7030</td>\n",
       "    </tr>\n",
       "    <tr>\n",
       "      <th>4</th>\n",
       "      <td>7080508414</td>\n",
       "      <td>https://annarbor.craigslist.org/cto/d/fenton-1...</td>\n",
       "      <td>ann arbor</td>\n",
       "      <td>https://annarbor.craigslist.org</td>\n",
       "      <td>6000</td>\n",
       "      <td>1998.0</td>\n",
       "      <td>chevrolet</td>\n",
       "      <td>suburban</td>\n",
       "      <td>good</td>\n",
       "      <td>8 cylinders</td>\n",
       "      <td>...</td>\n",
       "      <td>4wd</td>\n",
       "      <td>full-size</td>\n",
       "      <td>truck</td>\n",
       "      <td>white</td>\n",
       "      <td>https://images.craigslist.org/00H0H_2WicFiQnQe...</td>\n",
       "      <td>98 suburban 3/4 ton 4x4 454, auto 58,000 Origi...</td>\n",
       "      <td>None</td>\n",
       "      <td>mi</td>\n",
       "      <td>42.7851</td>\n",
       "      <td>-83.7294</td>\n",
       "    </tr>\n",
       "  </tbody>\n",
       "</table>\n",
       "<p>5 rows × 25 columns</p>\n",
       "</div>"
      ],
      "text/plain": [
       "           id                                                url  \\\n",
       "0  7090040033  https://sd.craigslist.org/cto/d/winner-2013-gm...   \n",
       "1  7074852055  https://pueblo.craigslist.org/ctd/d/pueblo-201...   \n",
       "2  7074738939  https://westslope.craigslist.org/ctd/d/grand-j...   \n",
       "3  7082414500  https://corvallis.craigslist.org/ctd/d/portlan...   \n",
       "4  7080508414  https://annarbor.craigslist.org/cto/d/fenton-1...   \n",
       "\n",
       "             region                        region_url  price    year  \\\n",
       "0      south dakota         https://sd.craigslist.org  20000  2013.0   \n",
       "1            pueblo     https://pueblo.craigslist.org   5950  2016.0   \n",
       "2     western slope  https://westslope.craigslist.org   4900  2008.0   \n",
       "3  corvallis/albany  https://corvallis.craigslist.org  11000  2014.0   \n",
       "4         ann arbor   https://annarbor.craigslist.org   6000  1998.0   \n",
       "\n",
       "  manufacturer          model  condition    cylinders  ... drive       size  \\\n",
       "0          gmc  acadia denali  excellent         None  ...  None       None   \n",
       "1          kia           soul       None         None  ...   fwd       None   \n",
       "2       nissan         altima       None  4 cylinders  ...   fwd       None   \n",
       "3    chevrolet          cruze       None  4 cylinders  ...   fwd       None   \n",
       "4    chevrolet       suburban       good  8 cylinders  ...   4wd  full-size   \n",
       "\n",
       "    type paint_color                                          image_url  \\\n",
       "0   None         red  https://images.craigslist.org/00A0A_qxTivbw44s...   \n",
       "1    SUV       black  https://images.craigslist.org/00q0q_2ArR8F6mYq...   \n",
       "2   None        None  https://images.craigslist.org/00V0V_an9fHTokkv...   \n",
       "3  sedan      silver  https://images.craigslist.org/00g0g_crAmR9fcFj...   \n",
       "4  truck       white  https://images.craigslist.org/00H0H_2WicFiQnQe...   \n",
       "\n",
       "                                         description county state      lat  \\\n",
       "0  84,300 miles New tires, well maintained.  Love...   None    sd  43.3318   \n",
       "1  2016 KIA SOUL - $5,950 \\tGallery Auto Auction ...   None    co  38.3536   \n",
       "2  2008 NISSAN ALTIMA    2008 Nissan Altima S, 2....   None    co  39.0645   \n",
       "3  NW Auto Locator Call/Text us at (508) 380-7260...   None    or  45.5303   \n",
       "4  98 suburban 3/4 ton 4x4 454, auto 58,000 Origi...   None    mi  42.7851   \n",
       "\n",
       "       long  \n",
       "0  -99.8033  \n",
       "1 -104.6230  \n",
       "2 -108.5500  \n",
       "3 -122.7030  \n",
       "4  -83.7294  \n",
       "\n",
       "[5 rows x 25 columns]"
      ]
     },
     "execution_count": 14,
     "metadata": {},
     "output_type": "execute_result"
    }
   ],
   "source": [
    "df.head()"
   ]
  },
  {
   "cell_type": "code",
   "execution_count": 15,
   "metadata": {},
   "outputs": [
    {
     "data": {
      "text/plain": [
       "Index(['id', 'url', 'region', 'region_url', 'price', 'year', 'manufacturer',\n",
       "       'model', 'condition', 'cylinders', 'fuel', 'odometer', 'title_status',\n",
       "       'transmission', 'vin', 'drive', 'size', 'type', 'paint_color',\n",
       "       'image_url', 'description', 'county', 'state', 'lat', 'long'],\n",
       "      dtype='object')"
      ]
     },
     "execution_count": 15,
     "metadata": {},
     "output_type": "execute_result"
    }
   ],
   "source": [
    "df.columns"
   ]
  },
  {
   "cell_type": "code",
   "execution_count": 18,
   "metadata": {},
   "outputs": [
    {
     "name": "stdout",
     "output_type": "stream",
     "text": [
      "<class 'pandas.core.frame.DataFrame'>\n",
      "RangeIndex: 539759 entries, 0 to 539758\n",
      "Data columns (total 25 columns):\n",
      " #   Column        Non-Null Count   Dtype  \n",
      "---  ------        --------------   -----  \n",
      " 0   id            539759 non-null  int64  \n",
      " 1   url           539759 non-null  object \n",
      " 2   region        539759 non-null  object \n",
      " 3   region_url    539759 non-null  object \n",
      " 4   price         539759 non-null  int64  \n",
      " 5   year          538772 non-null  float64\n",
      " 6   manufacturer  516175 non-null  object \n",
      " 7   model         539740 non-null  object \n",
      " 8   condition     303707 non-null  object \n",
      " 9   cylinders     321264 non-null  object \n",
      " 10  fuel          536366 non-null  object \n",
      " 11  odometer      440783 non-null  float64\n",
      " 12  title_status  536819 non-null  object \n",
      " 13  transmission  535786 non-null  object \n",
      " 14  vin           315400 non-null  object \n",
      " 15  drive         383987 non-null  object \n",
      " 16  size          168550 non-null  object \n",
      " 17  type          392290 non-null  object \n",
      " 18  paint_color   365520 non-null  object \n",
      " 19  image_url     539740 non-null  object \n",
      " 20  description   539740 non-null  object \n",
      " 21  county        0 non-null       object \n",
      " 22  state         539759 non-null  object \n",
      " 23  lat           530785 non-null  float64\n",
      " 24  long          530785 non-null  float64\n",
      "dtypes: float64(4), int64(2), object(19)\n",
      "memory usage: 103.0+ MB\n"
     ]
    }
   ],
   "source": [
    "df.info()"
   ]
  },
  {
   "cell_type": "code",
   "execution_count": 17,
   "metadata": {},
   "outputs": [
    {
     "data": {
      "text/html": [
       "<div>\n",
       "<style scoped>\n",
       "    .dataframe tbody tr th:only-of-type {\n",
       "        vertical-align: middle;\n",
       "    }\n",
       "\n",
       "    .dataframe tbody tr th {\n",
       "        vertical-align: top;\n",
       "    }\n",
       "\n",
       "    .dataframe thead th {\n",
       "        text-align: right;\n",
       "    }\n",
       "</style>\n",
       "<table border=\"1\" class=\"dataframe\">\n",
       "  <thead>\n",
       "    <tr style=\"text-align: right;\">\n",
       "      <th></th>\n",
       "      <th>id</th>\n",
       "      <th>price</th>\n",
       "      <th>year</th>\n",
       "      <th>odometer</th>\n",
       "      <th>lat</th>\n",
       "      <th>long</th>\n",
       "    </tr>\n",
       "  </thead>\n",
       "  <tbody>\n",
       "    <tr>\n",
       "      <th>count</th>\n",
       "      <td>5.397590e+05</td>\n",
       "      <td>5.397590e+05</td>\n",
       "      <td>538772.000000</td>\n",
       "      <td>4.407830e+05</td>\n",
       "      <td>530785.000000</td>\n",
       "      <td>530785.000000</td>\n",
       "    </tr>\n",
       "    <tr>\n",
       "      <th>mean</th>\n",
       "      <td>7.087609e+09</td>\n",
       "      <td>1.954214e+05</td>\n",
       "      <td>2009.830982</td>\n",
       "      <td>1.008008e+05</td>\n",
       "      <td>38.432128</td>\n",
       "      <td>-94.040501</td>\n",
       "    </tr>\n",
       "    <tr>\n",
       "      <th>std</th>\n",
       "      <td>5.234176e+06</td>\n",
       "      <td>2.208252e+07</td>\n",
       "      <td>9.161334</td>\n",
       "      <td>1.767058e+05</td>\n",
       "      <td>5.916936</td>\n",
       "      <td>17.626658</td>\n",
       "    </tr>\n",
       "    <tr>\n",
       "      <th>min</th>\n",
       "      <td>7.065765e+09</td>\n",
       "      <td>0.000000e+00</td>\n",
       "      <td>0.000000</td>\n",
       "      <td>0.000000e+00</td>\n",
       "      <td>-84.911400</td>\n",
       "      <td>-176.810000</td>\n",
       "    </tr>\n",
       "    <tr>\n",
       "      <th>25%</th>\n",
       "      <td>7.084240e+09</td>\n",
       "      <td>4.400000e+03</td>\n",
       "      <td>2007.000000</td>\n",
       "      <td>4.703850e+04</td>\n",
       "      <td>34.197100</td>\n",
       "      <td>-106.782000</td>\n",
       "    </tr>\n",
       "    <tr>\n",
       "      <th>50%</th>\n",
       "      <td>7.088973e+09</td>\n",
       "      <td>9.500000e+03</td>\n",
       "      <td>2012.000000</td>\n",
       "      <td>9.330000e+04</td>\n",
       "      <td>39.077600</td>\n",
       "      <td>-88.100900</td>\n",
       "    </tr>\n",
       "    <tr>\n",
       "      <th>75%</th>\n",
       "      <td>7.092094e+09</td>\n",
       "      <td>1.792600e+04</td>\n",
       "      <td>2015.000000</td>\n",
       "      <td>1.377550e+05</td>\n",
       "      <td>42.449100</td>\n",
       "      <td>-81.219000</td>\n",
       "    </tr>\n",
       "    <tr>\n",
       "      <th>max</th>\n",
       "      <td>7.093537e+09</td>\n",
       "      <td>4.294967e+09</td>\n",
       "      <td>2021.000000</td>\n",
       "      <td>6.480922e+07</td>\n",
       "      <td>84.514800</td>\n",
       "      <td>161.016000</td>\n",
       "    </tr>\n",
       "  </tbody>\n",
       "</table>\n",
       "</div>"
      ],
      "text/plain": [
       "                 id         price           year      odometer            lat  \\\n",
       "count  5.397590e+05  5.397590e+05  538772.000000  4.407830e+05  530785.000000   \n",
       "mean   7.087609e+09  1.954214e+05    2009.830982  1.008008e+05      38.432128   \n",
       "std    5.234176e+06  2.208252e+07       9.161334  1.767058e+05       5.916936   \n",
       "min    7.065765e+09  0.000000e+00       0.000000  0.000000e+00     -84.911400   \n",
       "25%    7.084240e+09  4.400000e+03    2007.000000  4.703850e+04      34.197100   \n",
       "50%    7.088973e+09  9.500000e+03    2012.000000  9.330000e+04      39.077600   \n",
       "75%    7.092094e+09  1.792600e+04    2015.000000  1.377550e+05      42.449100   \n",
       "max    7.093537e+09  4.294967e+09    2021.000000  6.480922e+07      84.514800   \n",
       "\n",
       "                long  \n",
       "count  530785.000000  \n",
       "mean      -94.040501  \n",
       "std        17.626658  \n",
       "min      -176.810000  \n",
       "25%      -106.782000  \n",
       "50%       -88.100900  \n",
       "75%       -81.219000  \n",
       "max       161.016000  "
      ]
     },
     "execution_count": 17,
     "metadata": {},
     "output_type": "execute_result"
    }
   ],
   "source": [
    "df.describe()"
   ]
  },
  {
   "cell_type": "code",
   "execution_count": 19,
   "metadata": {},
   "outputs": [
    {
     "data": {
      "text/plain": [
       "id                   0\n",
       "url                  0\n",
       "region               0\n",
       "region_url           0\n",
       "price                0\n",
       "year               987\n",
       "manufacturer     23584\n",
       "model               19\n",
       "condition       236052\n",
       "cylinders       218495\n",
       "fuel              3393\n",
       "odometer         98976\n",
       "title_status      2940\n",
       "transmission      3973\n",
       "vin             224359\n",
       "drive           155772\n",
       "size            371209\n",
       "type            147469\n",
       "paint_color     174239\n",
       "image_url           19\n",
       "description         19\n",
       "county          539759\n",
       "state                0\n",
       "lat               8974\n",
       "long              8974\n",
       "dtype: int64"
      ]
     },
     "execution_count": 19,
     "metadata": {},
     "output_type": "execute_result"
    }
   ],
   "source": [
    "df.isnull().sum()"
   ]
  },
  {
   "cell_type": "code",
   "execution_count": 20,
   "metadata": {},
   "outputs": [
    {
     "data": {
      "text/plain": [
       "(539759, 25)"
      ]
     },
     "execution_count": 20,
     "metadata": {},
     "output_type": "execute_result"
    }
   ],
   "source": [
    "df.shape"
   ]
  },
  {
   "cell_type": "code",
   "execution_count": 25,
   "metadata": {},
   "outputs": [
    {
     "data": {
      "text/plain": [
       "WDZPE7CC9D5767661    262\n",
       "77777777777777777     82\n",
       "CALL 203 231 1817     76\n",
       "Email for VIN         69\n",
       "5TFTX4GN8CX009283     56\n",
       "                    ... \n",
       "5TFCZ5AN6GX009118      1\n",
       "4T1FA38P86U094197      1\n",
       "5YFBURHEXGP400326      1\n",
       "WDBTJ56H57F220874      1\n",
       "KM8JUCAG4FU971683      1\n",
       "Name: vin, Length: 181680, dtype: int64"
      ]
     },
     "execution_count": 25,
     "metadata": {},
     "output_type": "execute_result"
    }
   ],
   "source": [
    "df.vin.value_counts()"
   ]
  },
  {
   "cell_type": "code",
   "execution_count": 26,
   "metadata": {},
   "outputs": [
    {
     "data": {
      "text/plain": [
       "4wd    178592\n",
       "fwd    133148\n",
       "rwd     72247\n",
       "Name: drive, dtype: int64"
      ]
     },
     "execution_count": 26,
     "metadata": {},
     "output_type": "execute_result"
    }
   ],
   "source": [
    "df.drive.value_counts()"
   ]
  },
  {
   "cell_type": "code",
   "execution_count": 30,
   "metadata": {},
   "outputs": [
    {
     "data": {
      "text/plain": [
       "full-size      92545\n",
       "mid-size       47033\n",
       "compact        25014\n",
       "sub-compact     3958\n",
       "Name: size, dtype: int64"
      ]
     },
     "execution_count": 30,
     "metadata": {},
     "output_type": "execute_result"
    }
   ],
   "source": [
    "df['size'].value_counts()"
   ]
  },
  {
   "cell_type": "markdown",
   "metadata": {},
   "source": [
    "#### Dealing with missing values"
   ]
  },
  {
   "cell_type": "code",
   "execution_count": 36,
   "metadata": {},
   "outputs": [],
   "source": [
    "df = df.drop(columns = 'county')"
   ]
  },
  {
   "cell_type": "code",
   "execution_count": 40,
   "metadata": {},
   "outputs": [],
   "source": [
    "df_raw = df.copy()"
   ]
  },
  {
   "cell_type": "code",
   "execution_count": 42,
   "metadata": {},
   "outputs": [],
   "source": [
    "df.drop(columns = ['id', 'url', 'region_url', 'vin', 'image_url'], inplace = True)"
   ]
  },
  {
   "cell_type": "code",
   "execution_count": 47,
   "metadata": {},
   "outputs": [
    {
     "data": {
      "text/plain": [
       "region               0\n",
       "price                0\n",
       "year               987\n",
       "manufacturer     23584\n",
       "model               19\n",
       "condition       236052\n",
       "cylinders       218495\n",
       "fuel              3393\n",
       "odometer         98976\n",
       "title_status      2940\n",
       "transmission      3973\n",
       "drive           155772\n",
       "size            371209\n",
       "type            147469\n",
       "paint_color     174239\n",
       "description         19\n",
       "state                0\n",
       "lat               8974\n",
       "long              8974\n",
       "dtype: int64"
      ]
     },
     "execution_count": 47,
     "metadata": {},
     "output_type": "execute_result"
    }
   ],
   "source": [
    "df.isnull().sum()"
   ]
  },
  {
   "cell_type": "code",
   "execution_count": 48,
   "metadata": {},
   "outputs": [
    {
     "data": {
      "text/html": [
       "<div>\n",
       "<style scoped>\n",
       "    .dataframe tbody tr th:only-of-type {\n",
       "        vertical-align: middle;\n",
       "    }\n",
       "\n",
       "    .dataframe tbody tr th {\n",
       "        vertical-align: top;\n",
       "    }\n",
       "\n",
       "    .dataframe thead th {\n",
       "        text-align: right;\n",
       "    }\n",
       "</style>\n",
       "<table border=\"1\" class=\"dataframe\">\n",
       "  <thead>\n",
       "    <tr style=\"text-align: right;\">\n",
       "      <th></th>\n",
       "      <th>region</th>\n",
       "      <th>price</th>\n",
       "      <th>year</th>\n",
       "      <th>manufacturer</th>\n",
       "      <th>model</th>\n",
       "      <th>condition</th>\n",
       "      <th>cylinders</th>\n",
       "      <th>fuel</th>\n",
       "      <th>odometer</th>\n",
       "      <th>title_status</th>\n",
       "      <th>transmission</th>\n",
       "      <th>drive</th>\n",
       "      <th>size</th>\n",
       "      <th>type</th>\n",
       "      <th>paint_color</th>\n",
       "      <th>description</th>\n",
       "      <th>state</th>\n",
       "      <th>lat</th>\n",
       "      <th>long</th>\n",
       "    </tr>\n",
       "  </thead>\n",
       "  <tbody>\n",
       "    <tr>\n",
       "      <th>0</th>\n",
       "      <td>south dakota</td>\n",
       "      <td>20000</td>\n",
       "      <td>2013.0</td>\n",
       "      <td>gmc</td>\n",
       "      <td>acadia denali</td>\n",
       "      <td>excellent</td>\n",
       "      <td>None</td>\n",
       "      <td>gas</td>\n",
       "      <td>84300.0</td>\n",
       "      <td>clean</td>\n",
       "      <td>automatic</td>\n",
       "      <td>None</td>\n",
       "      <td>None</td>\n",
       "      <td>None</td>\n",
       "      <td>red</td>\n",
       "      <td>84,300 miles New tires, well maintained.  Love...</td>\n",
       "      <td>sd</td>\n",
       "      <td>43.3318</td>\n",
       "      <td>-99.8033</td>\n",
       "    </tr>\n",
       "    <tr>\n",
       "      <th>1</th>\n",
       "      <td>pueblo</td>\n",
       "      <td>5950</td>\n",
       "      <td>2016.0</td>\n",
       "      <td>kia</td>\n",
       "      <td>soul</td>\n",
       "      <td>None</td>\n",
       "      <td>None</td>\n",
       "      <td>gas</td>\n",
       "      <td>100784.0</td>\n",
       "      <td>None</td>\n",
       "      <td>automatic</td>\n",
       "      <td>fwd</td>\n",
       "      <td>None</td>\n",
       "      <td>SUV</td>\n",
       "      <td>black</td>\n",
       "      <td>2016 KIA SOUL - $5,950 \\tGallery Auto Auction ...</td>\n",
       "      <td>co</td>\n",
       "      <td>38.3536</td>\n",
       "      <td>-104.6230</td>\n",
       "    </tr>\n",
       "    <tr>\n",
       "      <th>2</th>\n",
       "      <td>western slope</td>\n",
       "      <td>4900</td>\n",
       "      <td>2008.0</td>\n",
       "      <td>nissan</td>\n",
       "      <td>altima</td>\n",
       "      <td>None</td>\n",
       "      <td>4 cylinders</td>\n",
       "      <td>gas</td>\n",
       "      <td>127755.0</td>\n",
       "      <td>clean</td>\n",
       "      <td>automatic</td>\n",
       "      <td>fwd</td>\n",
       "      <td>None</td>\n",
       "      <td>None</td>\n",
       "      <td>None</td>\n",
       "      <td>2008 NISSAN ALTIMA    2008 Nissan Altima S, 2....</td>\n",
       "      <td>co</td>\n",
       "      <td>39.0645</td>\n",
       "      <td>-108.5500</td>\n",
       "    </tr>\n",
       "    <tr>\n",
       "      <th>3</th>\n",
       "      <td>corvallis/albany</td>\n",
       "      <td>11000</td>\n",
       "      <td>2014.0</td>\n",
       "      <td>chevrolet</td>\n",
       "      <td>cruze</td>\n",
       "      <td>None</td>\n",
       "      <td>4 cylinders</td>\n",
       "      <td>gas</td>\n",
       "      <td>73015.0</td>\n",
       "      <td>clean</td>\n",
       "      <td>automatic</td>\n",
       "      <td>fwd</td>\n",
       "      <td>None</td>\n",
       "      <td>sedan</td>\n",
       "      <td>silver</td>\n",
       "      <td>NW Auto Locator Call/Text us at (508) 380-7260...</td>\n",
       "      <td>or</td>\n",
       "      <td>45.5303</td>\n",
       "      <td>-122.7030</td>\n",
       "    </tr>\n",
       "    <tr>\n",
       "      <th>4</th>\n",
       "      <td>ann arbor</td>\n",
       "      <td>6000</td>\n",
       "      <td>1998.0</td>\n",
       "      <td>chevrolet</td>\n",
       "      <td>suburban</td>\n",
       "      <td>good</td>\n",
       "      <td>8 cylinders</td>\n",
       "      <td>gas</td>\n",
       "      <td>NaN</td>\n",
       "      <td>clean</td>\n",
       "      <td>automatic</td>\n",
       "      <td>4wd</td>\n",
       "      <td>full-size</td>\n",
       "      <td>truck</td>\n",
       "      <td>white</td>\n",
       "      <td>98 suburban 3/4 ton 4x4 454, auto 58,000 Origi...</td>\n",
       "      <td>mi</td>\n",
       "      <td>42.7851</td>\n",
       "      <td>-83.7294</td>\n",
       "    </tr>\n",
       "  </tbody>\n",
       "</table>\n",
       "</div>"
      ],
      "text/plain": [
       "             region  price    year manufacturer          model  condition  \\\n",
       "0      south dakota  20000  2013.0          gmc  acadia denali  excellent   \n",
       "1            pueblo   5950  2016.0          kia           soul       None   \n",
       "2     western slope   4900  2008.0       nissan         altima       None   \n",
       "3  corvallis/albany  11000  2014.0    chevrolet          cruze       None   \n",
       "4         ann arbor   6000  1998.0    chevrolet       suburban       good   \n",
       "\n",
       "     cylinders fuel  odometer title_status transmission drive       size  \\\n",
       "0         None  gas   84300.0        clean    automatic  None       None   \n",
       "1         None  gas  100784.0         None    automatic   fwd       None   \n",
       "2  4 cylinders  gas  127755.0        clean    automatic   fwd       None   \n",
       "3  4 cylinders  gas   73015.0        clean    automatic   fwd       None   \n",
       "4  8 cylinders  gas       NaN        clean    automatic   4wd  full-size   \n",
       "\n",
       "    type paint_color                                        description state  \\\n",
       "0   None         red  84,300 miles New tires, well maintained.  Love...    sd   \n",
       "1    SUV       black  2016 KIA SOUL - $5,950 \\tGallery Auto Auction ...    co   \n",
       "2   None        None  2008 NISSAN ALTIMA    2008 Nissan Altima S, 2....    co   \n",
       "3  sedan      silver  NW Auto Locator Call/Text us at (508) 380-7260...    or   \n",
       "4  truck       white  98 suburban 3/4 ton 4x4 454, auto 58,000 Origi...    mi   \n",
       "\n",
       "       lat      long  \n",
       "0  43.3318  -99.8033  \n",
       "1  38.3536 -104.6230  \n",
       "2  39.0645 -108.5500  \n",
       "3  45.5303 -122.7030  \n",
       "4  42.7851  -83.7294  "
      ]
     },
     "execution_count": 48,
     "metadata": {},
     "output_type": "execute_result"
    }
   ],
   "source": [
    "df.head()"
   ]
  },
  {
   "cell_type": "code",
   "execution_count": 73,
   "metadata": {},
   "outputs": [],
   "source": [
    "df.drop(columns = ['region', 'lat', 'long'], inplace = True)"
   ]
  },
  {
   "cell_type": "code",
   "execution_count": 74,
   "metadata": {},
   "outputs": [
    {
     "data": {
      "text/plain": [
       "sedan          96119\n",
       "SUV            94626\n",
       "pickup         55934\n",
       "truck          50419\n",
       "coupe          21664\n",
       "other          18351\n",
       "hatchback      14791\n",
       "wagon          12194\n",
       "van            11006\n",
       "convertible     9089\n",
       "mini-van        6685\n",
       "offroad          835\n",
       "bus              577\n",
       "Name: type, dtype: int64"
      ]
     },
     "execution_count": 74,
     "metadata": {},
     "output_type": "execute_result"
    }
   ],
   "source": [
    "df['type'].value_counts()"
   ]
  },
  {
   "cell_type": "code",
   "execution_count": 80,
   "metadata": {},
   "outputs": [
    {
     "data": {
      "text/plain": [
       "(539759, 17)"
      ]
     },
     "execution_count": 80,
     "metadata": {},
     "output_type": "execute_result"
    }
   ],
   "source": [
    "df.shape"
   ]
  },
  {
   "cell_type": "code",
   "execution_count": 82,
   "metadata": {},
   "outputs": [],
   "source": [
    "color_list = list(df.paint_color.unique())\n",
    "color_list.remove(None)"
   ]
  },
  {
   "cell_type": "code",
   "execution_count": 83,
   "metadata": {},
   "outputs": [
    {
     "data": {
      "text/plain": [
       "['red',\n",
       " 'black',\n",
       " 'silver',\n",
       " 'white',\n",
       " 'blue',\n",
       " 'grey',\n",
       " 'brown',\n",
       " 'yellow',\n",
       " 'purple',\n",
       " 'custom',\n",
       " 'green',\n",
       " 'orange']"
      ]
     },
     "execution_count": 83,
     "metadata": {},
     "output_type": "execute_result"
    }
   ],
   "source": [
    "color_list"
   ]
  },
  {
   "cell_type": "code",
   "execution_count": 84,
   "metadata": {},
   "outputs": [
    {
     "data": {
      "text/html": [
       "<div>\n",
       "<style scoped>\n",
       "    .dataframe tbody tr th:only-of-type {\n",
       "        vertical-align: middle;\n",
       "    }\n",
       "\n",
       "    .dataframe tbody tr th {\n",
       "        vertical-align: top;\n",
       "    }\n",
       "\n",
       "    .dataframe thead th {\n",
       "        text-align: right;\n",
       "    }\n",
       "</style>\n",
       "<table border=\"1\" class=\"dataframe\">\n",
       "  <thead>\n",
       "    <tr style=\"text-align: right;\">\n",
       "      <th></th>\n",
       "      <th>price</th>\n",
       "      <th>year</th>\n",
       "      <th>manufacturer</th>\n",
       "      <th>model</th>\n",
       "      <th>condition</th>\n",
       "      <th>cylinders</th>\n",
       "      <th>fuel</th>\n",
       "      <th>odometer</th>\n",
       "      <th>title_status</th>\n",
       "      <th>transmission</th>\n",
       "      <th>drive</th>\n",
       "      <th>size</th>\n",
       "      <th>type</th>\n",
       "      <th>paint_color</th>\n",
       "      <th>description</th>\n",
       "      <th>state</th>\n",
       "      <th>color</th>\n",
       "    </tr>\n",
       "  </thead>\n",
       "  <tbody>\n",
       "    <tr>\n",
       "      <th>0</th>\n",
       "      <td>20000</td>\n",
       "      <td>2013.0</td>\n",
       "      <td>gmc</td>\n",
       "      <td>acadia denali</td>\n",
       "      <td>excellent</td>\n",
       "      <td>None</td>\n",
       "      <td>gas</td>\n",
       "      <td>84300.0</td>\n",
       "      <td>clean</td>\n",
       "      <td>automatic</td>\n",
       "      <td>None</td>\n",
       "      <td>None</td>\n",
       "      <td>None</td>\n",
       "      <td>red</td>\n",
       "      <td>84,300 miles New tires, well maintained.  Love...</td>\n",
       "      <td>sd</td>\n",
       "      <td>None</td>\n",
       "    </tr>\n",
       "    <tr>\n",
       "      <th>1</th>\n",
       "      <td>5950</td>\n",
       "      <td>2016.0</td>\n",
       "      <td>kia</td>\n",
       "      <td>soul</td>\n",
       "      <td>None</td>\n",
       "      <td>None</td>\n",
       "      <td>gas</td>\n",
       "      <td>100784.0</td>\n",
       "      <td>None</td>\n",
       "      <td>automatic</td>\n",
       "      <td>fwd</td>\n",
       "      <td>None</td>\n",
       "      <td>SUV</td>\n",
       "      <td>black</td>\n",
       "      <td>2016 KIA SOUL - $5,950 \\tGallery Auto Auction ...</td>\n",
       "      <td>co</td>\n",
       "      <td>black</td>\n",
       "    </tr>\n",
       "    <tr>\n",
       "      <th>2</th>\n",
       "      <td>4900</td>\n",
       "      <td>2008.0</td>\n",
       "      <td>nissan</td>\n",
       "      <td>altima</td>\n",
       "      <td>None</td>\n",
       "      <td>4 cylinders</td>\n",
       "      <td>gas</td>\n",
       "      <td>127755.0</td>\n",
       "      <td>clean</td>\n",
       "      <td>automatic</td>\n",
       "      <td>fwd</td>\n",
       "      <td>None</td>\n",
       "      <td>None</td>\n",
       "      <td>None</td>\n",
       "      <td>2008 NISSAN ALTIMA    2008 Nissan Altima S, 2....</td>\n",
       "      <td>co</td>\n",
       "      <td>None</td>\n",
       "    </tr>\n",
       "    <tr>\n",
       "      <th>3</th>\n",
       "      <td>11000</td>\n",
       "      <td>2014.0</td>\n",
       "      <td>chevrolet</td>\n",
       "      <td>cruze</td>\n",
       "      <td>None</td>\n",
       "      <td>4 cylinders</td>\n",
       "      <td>gas</td>\n",
       "      <td>73015.0</td>\n",
       "      <td>clean</td>\n",
       "      <td>automatic</td>\n",
       "      <td>fwd</td>\n",
       "      <td>None</td>\n",
       "      <td>sedan</td>\n",
       "      <td>silver</td>\n",
       "      <td>NW Auto Locator Call/Text us at (508) 380-7260...</td>\n",
       "      <td>or</td>\n",
       "      <td>black</td>\n",
       "    </tr>\n",
       "    <tr>\n",
       "      <th>4</th>\n",
       "      <td>6000</td>\n",
       "      <td>1998.0</td>\n",
       "      <td>chevrolet</td>\n",
       "      <td>suburban</td>\n",
       "      <td>good</td>\n",
       "      <td>8 cylinders</td>\n",
       "      <td>gas</td>\n",
       "      <td>NaN</td>\n",
       "      <td>clean</td>\n",
       "      <td>automatic</td>\n",
       "      <td>4wd</td>\n",
       "      <td>full-size</td>\n",
       "      <td>truck</td>\n",
       "      <td>white</td>\n",
       "      <td>98 suburban 3/4 ton 4x4 454, auto 58,000 Origi...</td>\n",
       "      <td>mi</td>\n",
       "      <td>None</td>\n",
       "    </tr>\n",
       "  </tbody>\n",
       "</table>\n",
       "</div>"
      ],
      "text/plain": [
       "   price    year manufacturer          model  condition    cylinders fuel  \\\n",
       "0  20000  2013.0          gmc  acadia denali  excellent         None  gas   \n",
       "1   5950  2016.0          kia           soul       None         None  gas   \n",
       "2   4900  2008.0       nissan         altima       None  4 cylinders  gas   \n",
       "3  11000  2014.0    chevrolet          cruze       None  4 cylinders  gas   \n",
       "4   6000  1998.0    chevrolet       suburban       good  8 cylinders  gas   \n",
       "\n",
       "   odometer title_status transmission drive       size   type paint_color  \\\n",
       "0   84300.0        clean    automatic  None       None   None         red   \n",
       "1  100784.0         None    automatic   fwd       None    SUV       black   \n",
       "2  127755.0        clean    automatic   fwd       None   None        None   \n",
       "3   73015.0        clean    automatic   fwd       None  sedan      silver   \n",
       "4       NaN        clean    automatic   4wd  full-size  truck       white   \n",
       "\n",
       "                                         description state  color  \n",
       "0  84,300 miles New tires, well maintained.  Love...    sd   None  \n",
       "1  2016 KIA SOUL - $5,950 \\tGallery Auto Auction ...    co  black  \n",
       "2  2008 NISSAN ALTIMA    2008 Nissan Altima S, 2....    co   None  \n",
       "3  NW Auto Locator Call/Text us at (508) 380-7260...    or  black  \n",
       "4  98 suburban 3/4 ton 4x4 454, auto 58,000 Origi...    mi   None  "
      ]
     },
     "execution_count": 84,
     "metadata": {},
     "output_type": "execute_result"
    }
   ],
   "source": [
    "df.head()"
   ]
  },
  {
   "cell_type": "code",
   "execution_count": 86,
   "metadata": {},
   "outputs": [
    {
     "data": {
      "text/plain": [
       "'2008 NISSAN ALTIMA    2008 Nissan Altima S, 2.5LT, 4CYL, Auto, FWD. Sharp car with power seat, Push button start, keyless entry, tinted windows, steering wheel controls, cruise control, low miles, folding rear seats, great on gas with lots of room. Come check this low mile Altima out.  Works great for first time buyers!       Vehicle Information  Make: NISSAN Model: ALTIMA Trim: S Exterior Color: GRAY Engine: 2.5L Fuel: Gasoline Transmission: Continuously Variable Drive: FWD Miles: 127,755 VIN: 1N4AL21E08N425305 Stock #: 0159    Dealership Info  LIGHTHOUSE AUTO SALES LLC 1346 PITKIN AVE GRAND JUNCTION, CO 81501  TEXT: 970-852-2445 PHONE: 970-852-2445  Price:   $4,900.00 + $100 DH= $5,000 Total asking price             LIGHTHOUSE AUTO SALES LLC   WEBSITE: lighthousedealership.com 2008 NISSAN ALTIMA - Stock # 0159 Offered by: LIGHTHOUSE AUTO SALES LLC 68259-0159-79889-6532791'"
      ]
     },
     "execution_count": 86,
     "metadata": {},
     "output_type": "execute_result"
    }
   ],
   "source": [
    "df.iloc[2, 14]"
   ]
  },
  {
   "cell_type": "code",
   "execution_count": 69,
   "metadata": {},
   "outputs": [],
   "source": [
    "def check_for_color(x):\n",
    "    if x is not None:\n",
    "        for i in color_list:\n",
    "            if i in x.lower().split():\n",
    "                print(x)\n",
    "                return i"
   ]
  },
  {
   "cell_type": "code",
   "execution_count": 70,
   "metadata": {},
   "outputs": [],
   "source": [
    "df['color'] = df['description'].apply(check_for_color)"
   ]
  },
  {
   "cell_type": "code",
   "execution_count": 71,
   "metadata": {},
   "outputs": [
    {
     "data": {
      "text/plain": [
       "black     124280\n",
       "white      38135\n",
       "red        28313\n",
       "silver     22167\n",
       "blue       20774\n",
       "custom      6902\n",
       "green       4063\n",
       "grey        3310\n",
       "brown       2730\n",
       "orange      1743\n",
       "yellow       566\n",
       "purple       212\n",
       "Name: color, dtype: int64"
      ]
     },
     "execution_count": 71,
     "metadata": {},
     "output_type": "execute_result"
    }
   ],
   "source": [
    "df.color.value_counts()"
   ]
  },
  {
   "cell_type": "code",
   "execution_count": 89,
   "metadata": {},
   "outputs": [],
   "source": [
    "df.drop('paint_color_v2', axis = 1, inplace = True)"
   ]
  },
  {
   "cell_type": "code",
   "execution_count": 95,
   "metadata": {},
   "outputs": [],
   "source": [
    "df['color'] = np.where(df['paint_color']== None, df['color'], df['paint_color'])"
   ]
  },
  {
   "cell_type": "code",
   "execution_count": 97,
   "metadata": {},
   "outputs": [
    {
     "data": {
      "text/plain": [
       "price                0\n",
       "year               987\n",
       "manufacturer     23584\n",
       "model               19\n",
       "condition       236052\n",
       "cylinders       218495\n",
       "fuel              3393\n",
       "odometer         98976\n",
       "title_status      2940\n",
       "transmission      3973\n",
       "drive           155772\n",
       "size            371209\n",
       "type            147469\n",
       "paint_color     174239\n",
       "description         19\n",
       "state                0\n",
       "color           174239\n",
       "dtype: int64"
      ]
     },
     "execution_count": 97,
     "metadata": {},
     "output_type": "execute_result"
    }
   ],
   "source": [
    "df.isnull().sum()"
   ]
  },
  {
   "cell_type": "code",
   "execution_count": 98,
   "metadata": {},
   "outputs": [],
   "source": [
    "df_before_model = df.copy()"
   ]
  },
  {
   "cell_type": "code",
   "execution_count": 139,
   "metadata": {},
   "outputs": [],
   "source": [
    "# df = df_before_model.copy()"
   ]
  },
  {
   "cell_type": "code",
   "execution_count": 140,
   "metadata": {},
   "outputs": [],
   "source": [
    "df.drop(columns = ['model', 'color', 'description'], inplace = True)\n",
    "df = df.dropna()"
   ]
  },
  {
   "cell_type": "code",
   "execution_count": 141,
   "metadata": {},
   "outputs": [
    {
     "data": {
      "text/plain": [
       "(107433, 14)"
      ]
     },
     "execution_count": 141,
     "metadata": {},
     "output_type": "execute_result"
    }
   ],
   "source": [
    "df.shape"
   ]
  },
  {
   "cell_type": "code",
   "execution_count": 142,
   "metadata": {},
   "outputs": [
    {
     "data": {
      "text/html": [
       "<div>\n",
       "<style scoped>\n",
       "    .dataframe tbody tr th:only-of-type {\n",
       "        vertical-align: middle;\n",
       "    }\n",
       "\n",
       "    .dataframe tbody tr th {\n",
       "        vertical-align: top;\n",
       "    }\n",
       "\n",
       "    .dataframe thead th {\n",
       "        text-align: right;\n",
       "    }\n",
       "</style>\n",
       "<table border=\"1\" class=\"dataframe\">\n",
       "  <thead>\n",
       "    <tr style=\"text-align: right;\">\n",
       "      <th></th>\n",
       "      <th>price</th>\n",
       "      <th>year</th>\n",
       "      <th>manufacturer</th>\n",
       "      <th>condition</th>\n",
       "      <th>cylinders</th>\n",
       "      <th>fuel</th>\n",
       "      <th>odometer</th>\n",
       "      <th>title_status</th>\n",
       "      <th>transmission</th>\n",
       "      <th>drive</th>\n",
       "      <th>size</th>\n",
       "      <th>type</th>\n",
       "      <th>paint_color</th>\n",
       "      <th>state</th>\n",
       "    </tr>\n",
       "  </thead>\n",
       "  <tbody>\n",
       "    <tr>\n",
       "      <th>6</th>\n",
       "      <td>10500</td>\n",
       "      <td>2002.0</td>\n",
       "      <td>ford</td>\n",
       "      <td>fair</td>\n",
       "      <td>8 cylinders</td>\n",
       "      <td>gas</td>\n",
       "      <td>189910.0</td>\n",
       "      <td>clean</td>\n",
       "      <td>automatic</td>\n",
       "      <td>4wd</td>\n",
       "      <td>full-size</td>\n",
       "      <td>truck</td>\n",
       "      <td>white</td>\n",
       "      <td>wv</td>\n",
       "    </tr>\n",
       "    <tr>\n",
       "      <th>9</th>\n",
       "      <td>0</td>\n",
       "      <td>2011.0</td>\n",
       "      <td>cadillac</td>\n",
       "      <td>excellent</td>\n",
       "      <td>8 cylinders</td>\n",
       "      <td>gas</td>\n",
       "      <td>58988.0</td>\n",
       "      <td>clean</td>\n",
       "      <td>automatic</td>\n",
       "      <td>fwd</td>\n",
       "      <td>full-size</td>\n",
       "      <td>sedan</td>\n",
       "      <td>red</td>\n",
       "      <td>sd</td>\n",
       "    </tr>\n",
       "    <tr>\n",
       "      <th>14</th>\n",
       "      <td>7995</td>\n",
       "      <td>2006.0</td>\n",
       "      <td>chevrolet</td>\n",
       "      <td>good</td>\n",
       "      <td>8 cylinders</td>\n",
       "      <td>gas</td>\n",
       "      <td>99920.0</td>\n",
       "      <td>clean</td>\n",
       "      <td>automatic</td>\n",
       "      <td>fwd</td>\n",
       "      <td>full-size</td>\n",
       "      <td>sedan</td>\n",
       "      <td>silver</td>\n",
       "      <td>mo</td>\n",
       "    </tr>\n",
       "    <tr>\n",
       "      <th>17</th>\n",
       "      <td>9995</td>\n",
       "      <td>2014.0</td>\n",
       "      <td>ford</td>\n",
       "      <td>excellent</td>\n",
       "      <td>6 cylinders</td>\n",
       "      <td>gas</td>\n",
       "      <td>70000.0</td>\n",
       "      <td>clean</td>\n",
       "      <td>automatic</td>\n",
       "      <td>fwd</td>\n",
       "      <td>full-size</td>\n",
       "      <td>sedan</td>\n",
       "      <td>red</td>\n",
       "      <td>ny</td>\n",
       "    </tr>\n",
       "    <tr>\n",
       "      <th>21</th>\n",
       "      <td>8700</td>\n",
       "      <td>2013.0</td>\n",
       "      <td>chevrolet</td>\n",
       "      <td>good</td>\n",
       "      <td>4 cylinders</td>\n",
       "      <td>gas</td>\n",
       "      <td>500000.0</td>\n",
       "      <td>clean</td>\n",
       "      <td>automatic</td>\n",
       "      <td>fwd</td>\n",
       "      <td>mid-size</td>\n",
       "      <td>sedan</td>\n",
       "      <td>blue</td>\n",
       "      <td>wv</td>\n",
       "    </tr>\n",
       "  </tbody>\n",
       "</table>\n",
       "</div>"
      ],
      "text/plain": [
       "    price    year manufacturer  condition    cylinders fuel  odometer  \\\n",
       "6   10500  2002.0         ford       fair  8 cylinders  gas  189910.0   \n",
       "9       0  2011.0     cadillac  excellent  8 cylinders  gas   58988.0   \n",
       "14   7995  2006.0    chevrolet       good  8 cylinders  gas   99920.0   \n",
       "17   9995  2014.0         ford  excellent  6 cylinders  gas   70000.0   \n",
       "21   8700  2013.0    chevrolet       good  4 cylinders  gas  500000.0   \n",
       "\n",
       "   title_status transmission drive       size   type paint_color state  \n",
       "6         clean    automatic   4wd  full-size  truck       white    wv  \n",
       "9         clean    automatic   fwd  full-size  sedan         red    sd  \n",
       "14        clean    automatic   fwd  full-size  sedan      silver    mo  \n",
       "17        clean    automatic   fwd  full-size  sedan         red    ny  \n",
       "21        clean    automatic   fwd   mid-size  sedan        blue    wv  "
      ]
     },
     "execution_count": 142,
     "metadata": {},
     "output_type": "execute_result"
    }
   ],
   "source": [
    "df.head()"
   ]
  },
  {
   "cell_type": "code",
   "execution_count": 143,
   "metadata": {},
   "outputs": [],
   "source": [
    "def cylinder_transformation(x):\n",
    "    if x != 'other':\n",
    "        return int(x.split()[0])\n",
    "    elif x == 'other':\n",
    "        return 'other'\n",
    "\n",
    "df['cylinders'] = df['cylinders'].apply(cylinder_transformation)"
   ]
  },
  {
   "cell_type": "code",
   "execution_count": 145,
   "metadata": {},
   "outputs": [],
   "source": [
    "df = pd.get_dummies(df)"
   ]
  },
  {
   "cell_type": "code",
   "execution_count": 146,
   "metadata": {},
   "outputs": [
    {
     "data": {
      "text/plain": [
       "(107433, 157)"
      ]
     },
     "execution_count": 146,
     "metadata": {},
     "output_type": "execute_result"
    }
   ],
   "source": [
    "df.shape"
   ]
  },
  {
   "cell_type": "code",
   "execution_count": 147,
   "metadata": {},
   "outputs": [
    {
     "data": {
      "text/html": [
       "<div>\n",
       "<style scoped>\n",
       "    .dataframe tbody tr th:only-of-type {\n",
       "        vertical-align: middle;\n",
       "    }\n",
       "\n",
       "    .dataframe tbody tr th {\n",
       "        vertical-align: top;\n",
       "    }\n",
       "\n",
       "    .dataframe thead th {\n",
       "        text-align: right;\n",
       "    }\n",
       "</style>\n",
       "<table border=\"1\" class=\"dataframe\">\n",
       "  <thead>\n",
       "    <tr style=\"text-align: right;\">\n",
       "      <th></th>\n",
       "      <th>price</th>\n",
       "      <th>year</th>\n",
       "      <th>odometer</th>\n",
       "      <th>manufacturer_acura</th>\n",
       "      <th>manufacturer_alfa-romeo</th>\n",
       "      <th>manufacturer_aston-martin</th>\n",
       "      <th>manufacturer_audi</th>\n",
       "      <th>manufacturer_bmw</th>\n",
       "      <th>manufacturer_buick</th>\n",
       "      <th>manufacturer_cadillac</th>\n",
       "      <th>...</th>\n",
       "      <th>state_sd</th>\n",
       "      <th>state_tn</th>\n",
       "      <th>state_tx</th>\n",
       "      <th>state_ut</th>\n",
       "      <th>state_va</th>\n",
       "      <th>state_vt</th>\n",
       "      <th>state_wa</th>\n",
       "      <th>state_wi</th>\n",
       "      <th>state_wv</th>\n",
       "      <th>state_wy</th>\n",
       "    </tr>\n",
       "  </thead>\n",
       "  <tbody>\n",
       "    <tr>\n",
       "      <th>6</th>\n",
       "      <td>10500</td>\n",
       "      <td>2002.0</td>\n",
       "      <td>189910.0</td>\n",
       "      <td>0</td>\n",
       "      <td>0</td>\n",
       "      <td>0</td>\n",
       "      <td>0</td>\n",
       "      <td>0</td>\n",
       "      <td>0</td>\n",
       "      <td>0</td>\n",
       "      <td>...</td>\n",
       "      <td>0</td>\n",
       "      <td>0</td>\n",
       "      <td>0</td>\n",
       "      <td>0</td>\n",
       "      <td>0</td>\n",
       "      <td>0</td>\n",
       "      <td>0</td>\n",
       "      <td>0</td>\n",
       "      <td>1</td>\n",
       "      <td>0</td>\n",
       "    </tr>\n",
       "    <tr>\n",
       "      <th>9</th>\n",
       "      <td>0</td>\n",
       "      <td>2011.0</td>\n",
       "      <td>58988.0</td>\n",
       "      <td>0</td>\n",
       "      <td>0</td>\n",
       "      <td>0</td>\n",
       "      <td>0</td>\n",
       "      <td>0</td>\n",
       "      <td>0</td>\n",
       "      <td>1</td>\n",
       "      <td>...</td>\n",
       "      <td>1</td>\n",
       "      <td>0</td>\n",
       "      <td>0</td>\n",
       "      <td>0</td>\n",
       "      <td>0</td>\n",
       "      <td>0</td>\n",
       "      <td>0</td>\n",
       "      <td>0</td>\n",
       "      <td>0</td>\n",
       "      <td>0</td>\n",
       "    </tr>\n",
       "    <tr>\n",
       "      <th>14</th>\n",
       "      <td>7995</td>\n",
       "      <td>2006.0</td>\n",
       "      <td>99920.0</td>\n",
       "      <td>0</td>\n",
       "      <td>0</td>\n",
       "      <td>0</td>\n",
       "      <td>0</td>\n",
       "      <td>0</td>\n",
       "      <td>0</td>\n",
       "      <td>0</td>\n",
       "      <td>...</td>\n",
       "      <td>0</td>\n",
       "      <td>0</td>\n",
       "      <td>0</td>\n",
       "      <td>0</td>\n",
       "      <td>0</td>\n",
       "      <td>0</td>\n",
       "      <td>0</td>\n",
       "      <td>0</td>\n",
       "      <td>0</td>\n",
       "      <td>0</td>\n",
       "    </tr>\n",
       "    <tr>\n",
       "      <th>17</th>\n",
       "      <td>9995</td>\n",
       "      <td>2014.0</td>\n",
       "      <td>70000.0</td>\n",
       "      <td>0</td>\n",
       "      <td>0</td>\n",
       "      <td>0</td>\n",
       "      <td>0</td>\n",
       "      <td>0</td>\n",
       "      <td>0</td>\n",
       "      <td>0</td>\n",
       "      <td>...</td>\n",
       "      <td>0</td>\n",
       "      <td>0</td>\n",
       "      <td>0</td>\n",
       "      <td>0</td>\n",
       "      <td>0</td>\n",
       "      <td>0</td>\n",
       "      <td>0</td>\n",
       "      <td>0</td>\n",
       "      <td>0</td>\n",
       "      <td>0</td>\n",
       "    </tr>\n",
       "    <tr>\n",
       "      <th>21</th>\n",
       "      <td>8700</td>\n",
       "      <td>2013.0</td>\n",
       "      <td>500000.0</td>\n",
       "      <td>0</td>\n",
       "      <td>0</td>\n",
       "      <td>0</td>\n",
       "      <td>0</td>\n",
       "      <td>0</td>\n",
       "      <td>0</td>\n",
       "      <td>0</td>\n",
       "      <td>...</td>\n",
       "      <td>0</td>\n",
       "      <td>0</td>\n",
       "      <td>0</td>\n",
       "      <td>0</td>\n",
       "      <td>0</td>\n",
       "      <td>0</td>\n",
       "      <td>0</td>\n",
       "      <td>0</td>\n",
       "      <td>1</td>\n",
       "      <td>0</td>\n",
       "    </tr>\n",
       "  </tbody>\n",
       "</table>\n",
       "<p>5 rows × 157 columns</p>\n",
       "</div>"
      ],
      "text/plain": [
       "    price    year  odometer  manufacturer_acura  manufacturer_alfa-romeo  \\\n",
       "6   10500  2002.0  189910.0                   0                        0   \n",
       "9       0  2011.0   58988.0                   0                        0   \n",
       "14   7995  2006.0   99920.0                   0                        0   \n",
       "17   9995  2014.0   70000.0                   0                        0   \n",
       "21   8700  2013.0  500000.0                   0                        0   \n",
       "\n",
       "    manufacturer_aston-martin  manufacturer_audi  manufacturer_bmw  \\\n",
       "6                           0                  0                 0   \n",
       "9                           0                  0                 0   \n",
       "14                          0                  0                 0   \n",
       "17                          0                  0                 0   \n",
       "21                          0                  0                 0   \n",
       "\n",
       "    manufacturer_buick  manufacturer_cadillac  ...  state_sd  state_tn  \\\n",
       "6                    0                      0  ...         0         0   \n",
       "9                    0                      1  ...         1         0   \n",
       "14                   0                      0  ...         0         0   \n",
       "17                   0                      0  ...         0         0   \n",
       "21                   0                      0  ...         0         0   \n",
       "\n",
       "    state_tx  state_ut  state_va  state_vt  state_wa  state_wi  state_wv  \\\n",
       "6          0         0         0         0         0         0         1   \n",
       "9          0         0         0         0         0         0         0   \n",
       "14         0         0         0         0         0         0         0   \n",
       "17         0         0         0         0         0         0         0   \n",
       "21         0         0         0         0         0         0         1   \n",
       "\n",
       "    state_wy  \n",
       "6          0  \n",
       "9          0  \n",
       "14         0  \n",
       "17         0  \n",
       "21         0  \n",
       "\n",
       "[5 rows x 157 columns]"
      ]
     },
     "execution_count": 147,
     "metadata": {},
     "output_type": "execute_result"
    }
   ],
   "source": [
    "df.head()"
   ]
  },
  {
   "cell_type": "markdown",
   "metadata": {},
   "source": [
    "##### Model training "
   ]
  },
  {
   "cell_type": "code",
   "execution_count": 148,
   "metadata": {},
   "outputs": [],
   "source": [
    "y = df['price']\n",
    "X = df.drop('price', axis = 1)"
   ]
  },
  {
   "cell_type": "code",
   "execution_count": 149,
   "metadata": {},
   "outputs": [
    {
     "data": {
      "text/plain": [
       "((107433, 156), (107433,))"
      ]
     },
     "execution_count": 149,
     "metadata": {},
     "output_type": "execute_result"
    }
   ],
   "source": [
    "X.shape, y.shape"
   ]
  },
  {
   "cell_type": "code",
   "execution_count": 150,
   "metadata": {},
   "outputs": [],
   "source": [
    "X_train, X_test, y_train, y_test = train_test_split(X, y, test_size = 0.25, random_state = 42)"
   ]
  },
  {
   "cell_type": "code",
   "execution_count": 151,
   "metadata": {},
   "outputs": [
    {
     "name": "stdout",
     "output_type": "stream",
     "text": [
      "563298.4007467956\n"
     ]
    }
   ],
   "source": [
    "skf5 = StratifiedKFold(n_splits = 5, shuffle = True, random_state = 42)\n",
    "\n",
    "from sklearn.linear_model import LinearRegression\n",
    "linreg = LinearRegression()\n",
    "\n",
    "linreg.fit(X_train, y_train)\n",
    "\n",
    "from sklearn.metrics import mean_absolute_error\n",
    "# Evaluation on test dataset\n",
    "y_pred_linreg = linreg.predict(X_test)\n",
    "print(mean_absolute_error(y_test, y_pred_linreg))"
   ]
  },
  {
   "cell_type": "code",
   "execution_count": 152,
   "metadata": {},
   "outputs": [],
   "source": [
    "### tunning"
   ]
  },
  {
   "cell_type": "code",
   "execution_count": 153,
   "metadata": {},
   "outputs": [
    {
     "name": "stdout",
     "output_type": "stream",
     "text": [
      "Fitting 5 folds for each of 7 candidates, totalling 35 fits\n"
     ]
    },
    {
     "name": "stderr",
     "output_type": "stream",
     "text": [
      "/Users/marichka/anaconda3/lib/python3.7/site-packages/sklearn/model_selection/_split.py:652: Warning: The least populated class in y has only 1 members, which is too few. The minimum number of members in any class cannot be less than n_splits=5.\n",
      "  % (min_groups, self.n_splits)), Warning)\n",
      "[Parallel(n_jobs=-1)]: Using backend LokyBackend with 8 concurrent workers.\n",
      "[Parallel(n_jobs=-1)]: Done  35 out of  35 | elapsed:  5.9min finished\n",
      "/Users/marichka/anaconda3/lib/python3.7/site-packages/sklearn/model_selection/_search.py:841: DeprecationWarning: The default of the `iid` parameter will change from True to False in version 0.22 and will be removed in 0.24. This will change numeric results when test-set sizes are unequal.\n",
      "  DeprecationWarning)\n"
     ]
    },
    {
     "data": {
      "text/plain": [
       "GridSearchCV(cv=StratifiedKFold(n_splits=5, random_state=42, shuffle=True),\n",
       "       error_score='raise-deprecating',\n",
       "       estimator=Lasso(alpha=1.0, copy_X=True, fit_intercept=True, max_iter=1000,\n",
       "   normalize=True, positive=False, precompute=False, random_state=None,\n",
       "   selection='cyclic', tol=0.0001, warm_start=False),\n",
       "       fit_params=None, iid='warn', n_jobs=-1,\n",
       "       param_grid={'alpha': [0.01, 0.05, 0.1, 0.25, 0.5, 0.75, 1]},\n",
       "       pre_dispatch='2*n_jobs', refit=True, return_train_score='warn',\n",
       "       scoring='neg_mean_absolute_error', verbose=1)"
      ]
     },
     "execution_count": 153,
     "metadata": {},
     "output_type": "execute_result"
    }
   ],
   "source": [
    "from sklearn.linear_model import Lasso\n",
    "\n",
    "parameters = {'alpha': [0.01, 0.05, 0.1, 0.25, 0.5, 0.75, 1]}\n",
    "lassoreg = Lasso(normalize=True)\n",
    "lassoreg_gcv = GridSearchCV(lassoreg, parameters, n_jobs = -1, cv = skf5, verbose = 1, \n",
    "                    scoring = 'neg_mean_absolute_error')\n",
    "lassoreg_gcv.fit(X_train, y_train)"
   ]
  },
  {
   "cell_type": "code",
   "execution_count": 156,
   "metadata": {},
   "outputs": [
    {
     "data": {
      "text/plain": [
       "-560899.3307720867"
      ]
     },
     "execution_count": 156,
     "metadata": {},
     "output_type": "execute_result"
    }
   ],
   "source": [
    "lassoreg_gcv.best_score_"
   ]
  },
  {
   "cell_type": "code",
   "execution_count": 157,
   "metadata": {},
   "outputs": [
    {
     "data": {
      "text/plain": [
       "{'alpha': 1}"
      ]
     },
     "execution_count": 157,
     "metadata": {},
     "output_type": "execute_result"
    }
   ],
   "source": [
    "lassoreg_gcv.best_params_"
   ]
  },
  {
   "cell_type": "code",
   "execution_count": 158,
   "metadata": {},
   "outputs": [],
   "source": [
    "# Initialize our classifier with default parameters\n",
    "lassoreg = Lasso(normalize=True, alpha = 1)\n",
    "\n",
    "# Evaluation on test dataset\n",
    "y_pred_lassoreg = lassoreg.fit(X_train, y_train).predict(X_test)"
   ]
  },
  {
   "cell_type": "code",
   "execution_count": 160,
   "metadata": {},
   "outputs": [],
   "source": [
    "# save the model to disk\n",
    "import pickle\n",
    "filename = 'lassoreg.sav'\n",
    "pickle.dump(lassoreg, open(filename, 'wb'))"
   ]
  },
  {
   "cell_type": "markdown",
   "metadata": {},
   "source": [
    "#### put model to google cloud"
   ]
  },
  {
   "cell_type": "code",
   "execution_count": 171,
   "metadata": {},
   "outputs": [],
   "source": [
    "client = storage.Client()\n",
    "bucket = client.get_bucket('car_platform_gcs_bucket')\n",
    "blob = bucket.blob('models/lassoreg.sav')\n",
    "blob.upload_from_filename('lassoreg.sav')"
   ]
  }
 ],
 "metadata": {
  "kernelspec": {
   "display_name": "Python 3",
   "language": "python",
   "name": "python3"
  },
  "language_info": {
   "codemirror_mode": {
    "name": "ipython",
    "version": 3
   },
   "file_extension": ".py",
   "mimetype": "text/x-python",
   "name": "python",
   "nbconvert_exporter": "python",
   "pygments_lexer": "ipython3",
   "version": "3.7.1"
  }
 },
 "nbformat": 4,
 "nbformat_minor": 2
}
